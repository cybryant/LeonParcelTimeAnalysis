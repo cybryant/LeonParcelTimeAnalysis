{
 "cells": [
  {
   "attachments": {},
   "cell_type": "markdown",
   "metadata": {},
   "source": [
    "This script takes exlu feature classes (derived from the Leon County Property Appraiser annual parcel database update) from 2009 onward & converts them into hexbins with various attributes derived from parcel attributes. Each year's exlu is converted into a new hexbin feature class, and then all hexbin feature classes are combined into one feature class. \n",
    "\n",
    "author: Cherie Bryant for Geog 778 (U of Wisconsin-Madison Cartography)"
   ]
  },
  {
   "attachments": {},
   "cell_type": "markdown",
   "metadata": {},
   "source": [
    "**PART 1: CREATE HEXBIN FEATURE CLASSES FOR EACH YEAR**"
   ]
  },
  {
   "attachments": {},
   "cell_type": "markdown",
   "metadata": {},
   "source": [
    "1-1: Pre-process exlu"
   ]
  },
  {
   "cell_type": "code",
   "execution_count": null,
   "metadata": {},
   "outputs": [],
   "source": [
    "# copy exlu{yr} into a new feature class with only necessary fields (convert to equal area projection)\n",
    "# resunits, PYR_MARKET, PYR_TAXES, PRICE_S1, PRICE_S2, HX or HX{yr}, ZONING, ZONED, CALC_ACREA, exlanduse, PROP_USE, BASE_SQ_FT, AUX_SQ_FT, SALEDTE_S1, SALEDTE_S2, pattern\n",
    "\n",
    "# clip exlu{yr} by USA"
   ]
  },
  {
   "attachments": {},
   "cell_type": "markdown",
   "metadata": {},
   "source": [
    "1-2: Calculate Needed Fields"
   ]
  },
  {
   "cell_type": "code",
   "execution_count": null,
   "metadata": {},
   "outputs": [],
   "source": [
    "# calculate new field 'Homestead' (short) with value of \"1\" if HX{yr} is \"X\" and \"0\" if else\n",
    "# calculate 'resUnitsAllowed' (using zoning category dictionary & CALC_ACREA)\n",
    "# calculate 'nonResSF' (using exlanduse OR PROP_USE, BASE_SQ_FT+AUX_SQ_FT\n",
    "# calculate COUNT of sales for that year based on SALEDTE_S1"
   ]
  },
  {
   "attachments": {},
   "cell_type": "markdown",
   "metadata": {},
   "source": [
    "1-3: Place the Parcel Data Into Hexbins"
   ]
  },
  {
   "cell_type": "code",
   "execution_count": null,
   "metadata": {},
   "outputs": [],
   "source": [
    "# Summarize Within (Geoprocessing) with a bin size of 224.2677 feet* with the following summary fields: (*subsequent years will use hexBin_2009 polygons as inputs instead of bins)\n",
    "\n",
    "# resunits (sum)\n",
    "# PYR_MARKET (sum)\n",
    "# PYR_TAXES (sum)\n",
    "# PRICE_S1 (sum)\n",
    "# PRICE_S2 (sum)\n",
    "# Homestead (sum)\n",
    "# resUnitsAllowed (sum)\n",
    "# nonResSF (sum)\n",
    "# PrYrSales_Count (sum)"
   ]
  },
  {
   "attachments": {},
   "cell_type": "markdown",
   "metadata": {},
   "source": [
    "1-4: Spatial Join to exlu{yr} to Populate Non-numeric Fields"
   ]
  },
  {
   "cell_type": "code",
   "execution_count": null,
   "metadata": {},
   "outputs": [],
   "source": [
    "# Spatial Join between 'exlu09' & 'hexBin_2009' based on Largest Overlap to populate the following fields:\n",
    "\n",
    "# ExLandUse\n",
    "# PROP_USE\n",
    "# Zoning\n",
    "# pattern\n",
    "# YR_BLT\n",
    "# SALEDTE_S1\n",
    "# SALEDTE_S2"
   ]
  },
  {
   "attachments": {},
   "cell_type": "markdown",
   "metadata": {},
   "source": [
    "1-5: Calculate New Fields for the Hexbin Feature Class"
   ]
  },
  {
   "cell_type": "code",
   "execution_count": null,
   "metadata": {},
   "outputs": [],
   "source": [
    "# Calculate new fields for 'hexBin_2009'\n",
    "# Assign a BIN_ID number (can copy ObjectID) - ONLY NEEDED FOR 2009 \n",
    "# valuation per unit (PYR_MARKET/resunits)\n",
    "# taxes per unit (PYR_TAXES/resunits)"
   ]
  },
  {
   "attachments": {},
   "cell_type": "markdown",
   "metadata": {},
   "source": [
    "**PART 2 - JOIN ALL YEARS TOGETHER INTO ONE FEATURE CLASS**"
   ]
  },
  {
   "attachments": {},
   "cell_type": "markdown",
   "metadata": {},
   "source": [
    "Step 2-1: Prep the individual datasets for join"
   ]
  },
  {
   "cell_type": "code",
   "execution_count": null,
   "metadata": {},
   "outputs": [],
   "source": [
    "# for field in fields:\n",
    "# rename field to {fieldName}_{yr} (i.e., \"resunits_09\")"
   ]
  },
  {
   "attachments": {},
   "cell_type": "markdown",
   "metadata": {},
   "source": [
    "Step 2-2: Join all years"
   ]
  },
  {
   "cell_type": "code",
   "execution_count": null,
   "metadata": {},
   "outputs": [],
   "source": [
    "# Join all years together by BIN_ID & save to permanent feature class hexBins_All_{last_year} (i.e., \"hexBins_ALL_2022\")"
   ]
  }
 ],
 "metadata": {
  "kernelspec": {
   "display_name": "Python 3",
   "language": "python",
   "name": "python3"
  },
  "language_info": {
   "name": "python",
   "version": "3.8.3"
  },
  "orig_nbformat": 4,
  "vscode": {
   "interpreter": {
    "hash": "15e284539a3186146e19200a80ed540b3d8395ae380c3cdaab3b0d132eec1bdf"
   }
  }
 },
 "nbformat": 4,
 "nbformat_minor": 2
}
