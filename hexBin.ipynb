{
 "cells": [
  {
   "attachments": {},
   "cell_type": "markdown",
   "metadata": {},
   "source": [
    "This script takes exlu feature classes (derived from the Leon County Property Appraiser annual parcel database update) from 2009 onward & converts them into hexbins with various attributes derived from parcel attributes. Each year's exlu is converted into a new hexbin feature class, and then all hexbin feature classes are combined into one feature class. \n",
    "\n",
    "author: Cherie Bryant for Geog 778 (U of Wisconsin-Madison Cartography)"
   ]
  },
  {
   "attachments": {},
   "cell_type": "markdown",
   "metadata": {},
   "source": [
    "NEED TO FIGURE OUT HOW TO HANDLE WHEN A CELL GOES FROM 0 UNITS TO MORE; RIGHT NOW THE PERCENT CHANGE EXPRESSION THROWS OUT CELLS WHERE THE PRIOR YEAR IS 0 SO AS NOT TO CAUSE A DIVISION BY ZERO ERROR"
   ]
  },
  {
   "cell_type": "code",
   "execution_count": 15,
   "metadata": {},
   "outputs": [],
   "source": [
    "import arcpy\n",
    "# import pandas as pd\n",
    "# import geopandas as gpd\n",
    "\n",
    "\n",
    "# set initial workspace\n",
    "arcpy.env.workspace = r\"C:\\Users\\cheri\\Documents\\geog778\\ResidentialUnitTimeAnalysis\\ResidentialUnitTimeAnalysis.gdb\"\n",
    "\n",
    "# tell python it's OK to overwrite previous versions of layers & feature classes\n",
    "arcpy.env.overwriteOutput = True\n",
    "\n",
    "# manually set the year since we'll run each year individually\n",
    "# doing this since each run takes so long & this allows capture of any errors specific to a particular year; plus in the future, will only need to run Part 1 for the new year data\n",
    "yr = '11'\n",
    "prior_yr = '10'\n",
    "base_yr = '09'\n",
    "\n",
    "# copy exlu{yr} into a temporary feature layer \n",
    "# temp_exlu_lyr = f'C:/Users/cheri/Documents/geog778/ResidentialUnitTimeAnalysis/ResidentialUnitTimeAnalysis.gdb/original_exlu_FCs/exlu_{yr}'\n",
    "\n",
    "# copy exlu{yr} into a temporary feature layer \n",
    "temp_exlu_lyr = f'exlu_{yr}'\n"
   ]
  },
  {
   "attachments": {},
   "cell_type": "markdown",
   "metadata": {},
   "source": [
    "**SETUP WORKSPACE**"
   ]
  },
  {
   "attachments": {},
   "cell_type": "markdown",
   "metadata": {},
   "source": [
    "Step 1: Pre-process exlu"
   ]
  },
  {
   "cell_type": "code",
   "execution_count": 16,
   "metadata": {},
   "outputs": [],
   "source": [
    "#  convert to equal area projection - tests showed without conversion, hexagon bins were sizes within .000001 acre"
   ]
  },
  {
   "cell_type": "code",
   "execution_count": 17,
   "metadata": {},
   "outputs": [],
   "source": [
    "# RENAME THE  HX{yr} FIELD TO  'HX'\n",
    "\n",
    "# starting in 2010 this wasn't necessary - field is just 'HX' to start\n",
    "\n",
    "# new_field_name = 'HX'\n",
    "# new_field_alias = 'HX'\n",
    "\n",
    "# # get a list of the fields\n",
    "# fieldList = arcpy.ListFields(temp_exlu_lyr)\n",
    "\n",
    "# for field in fieldList:\n",
    "#     if field.name.startswith('HX'):\n",
    "#         arcpy.management.AlterField(temp_exlu_lyr, field.name, new_field_name, new_field_alias)"
   ]
  },
  {
   "cell_type": "code",
   "execution_count": 18,
   "metadata": {},
   "outputs": [
    {
     "data": {
      "text/html": [
       "<div class='gpresult'><h2>Messages</h2><div id='messages' data-messages='[\"Start Time: Thursday, March 2, 2023 1:57:35 PM\",\"Succeeded at Thursday, March 2, 2023 2:04:42 PM (Elapsed Time: 7 minutes 6 seconds)\"]' data-show='true'><div id = 'default' /></div></div>"
      ],
      "text/plain": [
       "<Result 'C:\\\\Users\\\\cheri\\\\Documents\\\\geog778\\\\ResidentialUnitTimeAnalysis\\\\ResidentialUnitTimeAnalysis.gdb\\\\exlu_11'>"
      ]
     },
     "execution_count": 18,
     "metadata": {},
     "output_type": "execute_result"
    }
   ],
   "source": [
    "# KEEP ONLY THE NECESSARY FIELDS\n",
    "\n",
    "in_table = temp_exlu_lyr\n",
    "fields = ['resunits', 'PYR_MARKET', 'PYR_TAXES', 'PRICE_S1', 'PRICE_S2', 'HX', 'ZONING', 'ZONED', 'CALC_ACREA', 'exlanduse', 'PROP_USE', 'BASE_SQ_FT', 'AUX_SQ_FT', 'SALEDTE_S1', 'SALEDTE_S2', 'pattern']\n",
    "\n",
    "arcpy.management.DeleteField(in_table, fields, method='KEEP_FIELDS')"
   ]
  },
  {
   "cell_type": "code",
   "execution_count": 19,
   "metadata": {},
   "outputs": [
    {
     "data": {
      "text/html": [
       "<div class='gpresult'><h2>Messages</h2><div id='messages' data-messages='[\"Start Time: Thursday, March 2, 2023 2:04:45 PM\",\"Reading Features...\",\"Cracking Features...\",\"Assembling Features...\",\"Succeeded at Thursday, March 2, 2023 2:05:20 PM (Elapsed Time: 34.74 seconds)\"]' data-show='true'><div id = 'default' /></div></div>"
      ],
      "text/plain": [
       "<Result 'C:\\\\Users\\\\cheri\\\\Documents\\\\geog778\\\\ResidentialUnitTimeAnalysis\\\\ResidentialUnitTimeAnalysis.gdb\\\\\\\\intermediate_parcel_FCs\\\\parcels_11'>"
      ]
     },
     "execution_count": 19,
     "metadata": {},
     "output_type": "execute_result"
    }
   ],
   "source": [
    "# CLIP parcels_{yr} BY THE URBAN SERVICE AREA BOUNDARY & SAVE TO PERMANENT FEATURE CLASS\n",
    "\n",
    "in_features = in_table\n",
    "clip_features = 'USA_Boundary_8_22_22'\n",
    "out_feature_class = f'/intermediate_parcel_FCs/parcels_{yr}'  \n",
    "\n",
    "# intermediate_FCs = r\"C:\\Users\\cheri\\Documents\\geog778\\ResidentialUnitTimeAnalysis\\ResidentialUnitTimeAnalysis.gdb\\intermediate_parcel_FCs\"\n",
    "# # temporarily set the environment to the intermediate parcel feature dataset & clip the features\n",
    "# with arcpy.EnvManager(workspace=intermediate_FCs):\n",
    "#     arcpy.analysis.Clip(in_features, clip_features, out_feature_class)\n",
    "\n",
    "arcpy.analysis.Clip(in_features, clip_features, out_feature_class)"
   ]
  },
  {
   "attachments": {},
   "cell_type": "markdown",
   "metadata": {},
   "source": [
    "Step 2: Calculate Needed Fields"
   ]
  },
  {
   "cell_type": "code",
   "execution_count": 20,
   "metadata": {},
   "outputs": [
    {
     "data": {
      "text/html": [
       "<div class='gpresult'><h2>Messages</h2><div id='messages' data-messages='[\"Start Time: Thursday, March 2, 2023 2:05:20 PM\",\"Adding homestead to parcels_11...\",\"Succeeded at Thursday, March 2, 2023 2:05:33 PM (Elapsed Time: 13.06 seconds)\"]' data-show='true'><div id = 'default' /></div></div>"
      ],
      "text/plain": [
       "<Result 'C:\\\\Users\\\\cheri\\\\Documents\\\\geog778\\\\ResidentialUnitTimeAnalysis\\\\ResidentialUnitTimeAnalysis.gdb\\\\/intermediate_parcel_FCs/parcels_11'>"
      ]
     },
     "execution_count": 20,
     "metadata": {},
     "output_type": "execute_result"
    }
   ],
   "source": [
    "# CALCULATE NEW FIELD 'homestead'\n",
    "# with value of \"1\" if HX is \"X\" and \"0\" if else\n",
    "\n",
    "inTable_hmstead = f'/intermediate_parcel_FCs/parcels_{yr}'\n",
    "fieldName_hmstead = 'homestead'\n",
    "expression_hmstead = 'calc_hmstead_integer(!HX!)'\n",
    "codeblock_hmstead = '''\n",
    "def calc_hmstead_integer(HX):\n",
    "    homestead = 0\n",
    "    if HX == \"X\":\n",
    "        homestead = 1\n",
    "    return homestead'''\n",
    "\n",
    "# calculate the new field\n",
    "arcpy.management.CalculateField(inTable_hmstead, fieldName_hmstead, expression_hmstead, \"PYTHON3\", codeblock_hmstead, field_type=\"DOUBLE\")"
   ]
  },
  {
   "cell_type": "code",
   "execution_count": 21,
   "metadata": {},
   "outputs": [
    {
     "data": {
      "text/html": [
       "<div class='gpresult'><h2>Messages</h2><div id='messages' data-messages='[\"Start Time: Thursday, March 2, 2023 2:05:34 PM\",\"Adding nonResSF to parcels_11...\",\"Succeeded at Thursday, March 2, 2023 2:05:49 PM (Elapsed Time: 14.72 seconds)\"]' data-show='true'><div id = 'default' /></div></div>"
      ],
      "text/plain": [
       "<Result 'C:\\\\Users\\\\cheri\\\\Documents\\\\geog778\\\\ResidentialUnitTimeAnalysis\\\\ResidentialUnitTimeAnalysis.gdb\\\\/intermediate_parcel_FCs/parcels_11'>"
      ]
     },
     "execution_count": 21,
     "metadata": {},
     "output_type": "execute_result"
    }
   ],
   "source": [
    "# CALCULATE 'nonResSF' \n",
    "# (using exlanduse and BASE_SQ_FT+AUX_SQ_FT\n",
    "\n",
    "inTable_nonResSF = f'/intermediate_parcel_FCs/parcels_{yr}'\n",
    "fieldName_nonResSF = 'nonResSF'\n",
    "expression_nonResSF = 'calc_nonResSF(!exlanduse!, !BASE_SQ_FT!, !AUX_SQ_FT!)'\n",
    "codeblock_nonResSF = '''\n",
    "def calc_nonResSF(exlanduse, baseSF, auxSF):\n",
    "    nonResSF = 0\n",
    "    if exlanduse in ['Retail', 'Office', 'Warehouse', 'Religious/Non-profit', 'School', 'Motel/Hospital/Clinic', 'Government']:\n",
    "        nonResSF = baseSF + auxSF\n",
    "    return nonResSF'''\n",
    "\n",
    "# calculate the new field\n",
    "arcpy.management.CalculateField(inTable_nonResSF, fieldName_nonResSF, expression_nonResSF, \"PYTHON3\", codeblock_nonResSF, field_type=\"DOUBLE\")"
   ]
  },
  {
   "cell_type": "code",
   "execution_count": 22,
   "metadata": {},
   "outputs": [
    {
     "data": {
      "text/html": [
       "<div class='gpresult'><h2>Messages</h2><div id='messages' data-messages='[\"Start Time: Thursday, March 2, 2023 2:05:49 PM\",\"Adding numSales to parcels_11...\",\"Succeeded at Thursday, March 2, 2023 2:06:03 PM (Elapsed Time: 13.83 seconds)\"]' data-show='true'><div id = 'default' /></div></div>"
      ],
      "text/plain": [
       "<Result 'C:\\\\Users\\\\cheri\\\\Documents\\\\geog778\\\\ResidentialUnitTimeAnalysis\\\\ResidentialUnitTimeAnalysis.gdb\\\\/intermediate_parcel_FCs/parcels_11'>"
      ]
     },
     "execution_count": 22,
     "metadata": {},
     "output_type": "execute_result"
    }
   ],
   "source": [
    "# CALCULATE COUNT OF SALES FOR 'yr' \n",
    "# based on 'SALEDTE_S1'\n",
    "\n",
    "inTable_numSales = f'/intermediate_parcel_FCs/parcels_{yr}'\n",
    "fieldName_numSales = 'numSales'\n",
    "expression_numSales = 'calc_numSales(!SALEDTE_S1!, !SALEDTE_S2!)'\n",
    "codeblock_numSales = '''\n",
    "def calc_numSales(sales_1, sales_2):\n",
    "    numSales = 0\n",
    "    if sales_1.endswith(yr):\n",
    "        numSales += 1\n",
    "    if sales_2.endswith(yr):\n",
    "        numSales += 1\n",
    "    return numSales'''\n",
    "\n",
    "# calculate the new field\n",
    "arcpy.management.CalculateField(inTable_numSales, fieldName_numSales, expression_numSales, \"PYTHON3\", codeblock_numSales, field_type=\"DOUBLE\")\n"
   ]
  },
  {
   "attachments": {},
   "cell_type": "markdown",
   "metadata": {},
   "source": [
    "Step 3: Place the Parcel Data Into Hexbins"
   ]
  },
  {
   "cell_type": "code",
   "execution_count": 23,
   "metadata": {},
   "outputs": [
    {
     "data": {
      "text/html": [
       "<div class='gpresult'><h2>Messages</h2><div id='messages' data-messages='[\"Start Time: Thursday, March 2, 2023 2:06:09 PM\",\"Started Spark Job 1 with 24 tasks.\",\"Spark Job 1 completed in 2.5 seconds.\",\"Started Spark Job 2 with 144 tasks.\",\"Spark Job 2 completed in 760.5 seconds.\",\"\",\"Succeeded at Thursday, March 2, 2023 2:19:32 PM (Elapsed Time: 13 minutes 23 seconds)\"]' data-show='true'><div id = 'default' /></div></div>"
      ],
      "text/plain": [
       "<Result 'C:\\\\Users\\\\cheri\\\\Documents\\\\geog778\\\\ResidentialUnitTimeAnalysis\\\\ResidentialUnitTimeAnalysis.gdb\\\\\\\\hexBin_FCs\\\\hexBin_11'>"
      ]
     },
     "execution_count": 23,
     "metadata": {},
     "output_type": "execute_result"
    }
   ],
   "source": [
    "# Summarize Within (Geoprocessing) with a bin size of 224.2677 feet* with the following summary fields: (*subsequent years will use hexBin_09 polygons as inputs instead of bins)\n",
    "\n",
    "# ************ TO DO ****************\n",
    "# add variable at top to hold the summary_polygons location so it's not buried in code if it needs to change in the future\n",
    "# also add variables at top for 'initialRun' = (yes or no) & 'finalRun' = (yes or no) & initialRunYr = '09' & finalRunYr = '22' (or newer) \n",
    "# then use conditional statements for those blocks that will run only with the initial or final year.  \n",
    "\n",
    "summarized_layer = f'/intermediate_parcel_FCs/parcels_{yr}'\n",
    "output_fc = f'/hexBin_FCs/hexBin_{yr}'\n",
    "sum_polygons = f'/hexBin_FCs/hexBin_{prior_yr}'\n",
    "sum_fields = [['resunits', 'SUM'], ['PYR_MARKET', 'SUM'], ['PYR_TAXES', 'SUM'], ['PRICE_S1', 'SUM'], \\\n",
    "                           ['PRICE_S2', 'SUM'], ['homestead', 'SUM'], ['nonResSF', 'SUM'], ['numSales', 'SUM']]\n",
    "\n",
    "##################\n",
    "# FIRST RUN ONLY\n",
    "##################\n",
    "# arcpy.gapro.SummarizeWithin(summarized_layer, output_fc, polygon_or_bin='BIN', bin_type='HEXAGON', bin_size='224.667 Feet', sum_shape='ADD_SUMMARY', shape_units='ACRES', weighted_summary_fields=sum_fields)\n",
    "\n",
    "\n",
    "##################\n",
    "# SUBSEQUENT RUNS\n",
    "##################\n",
    "arcpy.gapro.SummarizeWithin(summarized_layer, output_fc, polygon_or_bin='POLYGON', bin_type='HEXAGON', summary_polygons=sum_polygons, sum_shape='ADD_SUMMARY', shape_units='ACRES', weighted_summary_fields=sum_fields)\n",
    "\n",
    "\n",
    "# ADD ['resunits_allowed', 'SUM'] TO SUMMARY FIELDS FOR PHASE II"
   ]
  },
  {
   "attachments": {},
   "cell_type": "markdown",
   "metadata": {},
   "source": [
    "Step 5: Calculate New Fields for the Hexbin Feature Class (Step 4 is skipped until Phase 2)"
   ]
  },
  {
   "cell_type": "code",
   "execution_count": 24,
   "metadata": {},
   "outputs": [],
   "source": [
    "# ***FOR FIRST YEAR ONLY*** ASSIGN A 'bin_ID' NUMBER (can copy ObjectID) \n",
    "\n",
    "# inTable_makeBinID = f'/hexBin_FCs/hexBin_{yr}'\n",
    "# fieldName_makeBinID = 'bin_ID'\n",
    "# expression_makeBinID = '!OBJECTID!'\n",
    "\n",
    "# # calculate the new field\n",
    "# arcpy.management.CalculateField(inTable_makeBinID, fieldName_makeBinID, expression_makeBinID, \"PYTHON3\")"
   ]
  },
  {
   "cell_type": "code",
   "execution_count": 25,
   "metadata": {},
   "outputs": [
    {
     "data": {
      "text/html": [
       "<div class='gpresult'><h2>Messages</h2><div id='messages' data-messages='[\"Start Time: Thursday, March 2, 2023 2:19:34 PM\",\"Adding valPerUnit_11 to hexBin_11...\",\"Succeeded at Thursday, March 2, 2023 2:19:52 PM (Elapsed Time: 17.69 seconds)\"]' data-show='true'><div id = 'default' /></div></div>"
      ],
      "text/plain": [
       "<Result 'C:\\\\Users\\\\cheri\\\\Documents\\\\geog778\\\\ResidentialUnitTimeAnalysis\\\\ResidentialUnitTimeAnalysis.gdb\\\\/hexBin_FCs/hexBin_11'>"
      ]
     },
     "execution_count": 25,
     "metadata": {},
     "output_type": "execute_result"
    }
   ],
   "source": [
    "# CALCULATE VALUATION PER UNIT (PYR_MARKET/resunits)\n",
    "\n",
    "inTable_valPerUnit = f'/hexBin_FCs/hexBin_{yr}'\n",
    "fieldName_valPerUnit = f'valPerUnit_{yr}'\n",
    "expression_valPerUnit = 'calc_valPerUnit(!pSUM_PYR_MARKET!, !pSUM_resunits!)'\n",
    "codeblock_valPerUnit = '''\n",
    "def calc_valPerUnit(pyr_market, resunits):\n",
    "    if resunits > 0:\n",
    "        valPerUnit = pyr_market/resunits\n",
    "        return valPerUnit'''\n",
    "\n",
    "# calculate the new field\n",
    "arcpy.management.CalculateField(inTable_valPerUnit, fieldName_valPerUnit, expression_valPerUnit, \"PYTHON3\", codeblock_valPerUnit, field_type=\"DOUBLE\")"
   ]
  },
  {
   "cell_type": "code",
   "execution_count": 26,
   "metadata": {},
   "outputs": [
    {
     "data": {
      "text/html": [
       "<div class='gpresult'><h2>Messages</h2><div id='messages' data-messages='[\"Start Time: Thursday, March 2, 2023 2:19:53 PM\",\"Adding taxPerUnit_11 to hexBin_11...\",\"Succeeded at Thursday, March 2, 2023 2:20:10 PM (Elapsed Time: 17.46 seconds)\"]' data-show='true'><div id = 'default' /></div></div>"
      ],
      "text/plain": [
       "<Result 'C:\\\\Users\\\\cheri\\\\Documents\\\\geog778\\\\ResidentialUnitTimeAnalysis\\\\ResidentialUnitTimeAnalysis.gdb\\\\/hexBin_FCs/hexBin_11'>"
      ]
     },
     "execution_count": 26,
     "metadata": {},
     "output_type": "execute_result"
    }
   ],
   "source": [
    "# CALCULATE TAXES PER UNIT (PYR_TAXES/resunits)\n",
    "\n",
    "inTable_taxPerUnit = f'/hexBin_FCs/hexBin_{yr}'\n",
    "fieldName_taxPerUnit = f'taxPerUnit_{yr}'\n",
    "expression_taxPerUnit = 'calc_taxPerUnit(!pSUM_PYR_TAXES!, !pSUM_resunits!)'\n",
    "codeblock_taxPerUnit = '''\n",
    "def calc_taxPerUnit(pyr_taxes, resunits):\n",
    "    if resunits > 0:\n",
    "        taxPerUnit = pyr_taxes/resunits\n",
    "        return taxPerUnit'''\n",
    "\n",
    "# calculate the new field\n",
    "arcpy.management.CalculateField(inTable_taxPerUnit, fieldName_taxPerUnit, expression_taxPerUnit, \"PYTHON3\", codeblock_taxPerUnit, field_type=\"DOUBLE\")"
   ]
  },
  {
   "attachments": {},
   "cell_type": "markdown",
   "metadata": {},
   "source": [
    "Step 6: Update the Analysis Field Names to Include the Year"
   ]
  },
  {
   "cell_type": "code",
   "execution_count": 27,
   "metadata": {},
   "outputs": [],
   "source": [
    "# ADD '_{yr}' AS A SUFFIX TO EACH NEWLY ADDED FIELD \n",
    "\n",
    "inTable_prep = f'/hexBin_FCs/hexBin_{yr}'\n",
    "analysis_fields = ['pSUM_resunits', 'pSUM_PYR_MARKET', 'pSUM_PYR_TAXES', 'pSUM_PRICE_S1', 'pSUM_PRICE_S2', 'pSUM_homestead', 'pSUM_nonResSF', 'pSUM_numSales']\n",
    "\n",
    "for field in analysis_fields:\n",
    "    new_field_name = f'{field}_{yr}'\n",
    "    new_field_alias = f'{field}_{yr}'\n",
    "    arcpy.management.AlterField(inTable_prep, field, new_field_name, new_field_alias)"
   ]
  },
  {
   "cell_type": "code",
   "execution_count": 28,
   "metadata": {},
   "outputs": [],
   "source": [
    "# REMOVE EXTRANEOUS 'pSUM_' PREFIX FROM THE NEWLY ADDED FIELDS\n",
    "\n",
    "# get a list of the fields\n",
    "fieldList_prep = arcpy.ListFields(inTable_prep)\n",
    "\n",
    "for field in fieldList_prep:\n",
    "    if field.name.startswith('pSUM_'):\n",
    "        new_field_name = field.name.strip('pSUM_')\n",
    "        new_field_alias = field.name.strip('pSUM_') \n",
    "        arcpy.management.AlterField(inTable_prep, field.name, new_field_name, new_field_alias)"
   ]
  },
  {
   "attachments": {},
   "cell_type": "markdown",
   "metadata": {},
   "source": [
    "Step 7: Calculate fields for percentage change (could be done in JS/browser but this will enhance performance)"
   ]
  },
  {
   "cell_type": "code",
   "execution_count": 29,
   "metadata": {},
   "outputs": [],
   "source": [
    "# FOR EACH FIELD OF INTEREST, CALCULATE PERCENT CHANGE FROM THE PRIOR YEAR\n",
    "# analysis_fields = [f'resunits'_{yr}, f'PYR_MARKET_{yr}', f'PYR_TAXES_{yr}', f'PRICE_S1_{yr}', f'PRICE_S2_{yr}', f'homestead_{yr}', f'nonResSF_{yr}', f'numSales_{yr}', f'valPerUnit_{yr}', f'taxPerUnit_{yr}']\n",
    "analysis_fields = ['resunits', 'PYR_MARKET', 'PYR_TAXES', 'PRICE_S1', 'PRICE_S2', 'homestead', 'nonResSF', 'numSales', 'valPerUnit', 'taxPerUnit']\n",
    "# since valPerUnit & taxPerUnit will generage 'None' if there are no resunits, need to filter out the 'None' values with 'if' statements; tool will still run, but will lag the machine & throw a bunch of errors\n",
    "inTable_annChange = f'/hexBin_FCs/hexBin_{yr}'\n",
    "codeblock_annChange = '''\n",
    "def calc_annChange (prior_yr_field, yr_field):\n",
    "    if prior_yr_field != None and yr_field != None:\n",
    "        if prior_yr_field > 0:\n",
    "            ann_perc_chg = ((yr_field - prior_yr_field) / prior_yr_field) * 100\n",
    "            return ann_perc_chg'''\n",
    "\n",
    "for field in analysis_fields:\n",
    "    fieldName_annChange = f'{field}_{yr}_APC' # 'APC' stands for Annual Percentage Change\n",
    "    expression_annChange = f'calc_annChange(!{field}_{prior_yr}!, !{field}_{yr}!)'\n",
    "    arcpy.management.CalculateField(inTable_annChange, fieldName_annChange, expression_annChange, 'PYTHON', codeblock_annChange, field_type=\"DOUBLE\")"
   ]
  },
  {
   "cell_type": "code",
   "execution_count": 36,
   "metadata": {},
   "outputs": [],
   "source": [
    "# FOR EACH FIELD OF INTEREST, CALCULATE PERCENT CHANGE FROM THE BASE YEAR\n",
    "analysis_fields = ['resunits', 'PYR_MARKET', 'PYR_TAXES', 'PRICE_S1', 'PRICE_S2', 'homestead', 'nonResSF', 'numSales', 'valPerUnit', 'taxPerUnit']\n",
    "\n",
    "inTable_bypChange = f'/hexBin_FCs/hexBin_{yr}'\n",
    "# since valPerUnit & taxPerUnit will generage 'None' if there are no resunits, need to filter out the 'None' values with 'if' statements; tool will still run, but will lag the machine & throw a bunch of errors\n",
    "codeblock_bypChange = '''\n",
    "def calc_baseYrChange (base_yr_field, yr_field):\n",
    "    if base_yr_field != None and yr_field != None:\n",
    "        if base_yr_field > 0:\n",
    "            baseYr_perc_chg = ((yr_field - base_yr_field) / base_yr_field) * 100\n",
    "            return baseYr_perc_chg'''\n",
    "\n",
    "for field in analysis_fields:\n",
    "    fieldName_bypChange = f'{field}_{yr}_BYPC' # 'BYPC' stands for Base Year Percentage Change\n",
    "    expression_bypChange = f'calc_baseYrChange(!{field}_{base_yr}!, !{field}_{yr}!)'\n",
    "    arcpy.management.CalculateField(inTable_bypChange, fieldName_bypChange, expression_bypChange, 'PYTHON', codeblock_bypChange, field_type=\"DOUBLE\")"
   ]
  },
  {
   "attachments": {},
   "cell_type": "markdown",
   "metadata": {},
   "source": [
    "NOT NEEDED - Step 8: Overwrite the Prior Year 'hexBins_ALL_{final_yr}' With the New One"
   ]
  },
  {
   "cell_type": "code",
   "execution_count": 31,
   "metadata": {},
   "outputs": [],
   "source": [
    "# source_FC = f'/hexBin_FCs/hexBin_{yr}'\n",
    "# destination_FC = f'/hexBin_FCs/hexBin_ALL_{final_yr}'\n",
    "\n",
    "# # delete existing version (regular overwrite doesn't work here) - the last year's hexBin_{yr} will be identical\n",
    "# if arcpy.Exists(destination_FC):\n",
    "#     arcpy.Delete_management(destination_FC)\n",
    "\n",
    "# # copy new version\n",
    "# arcpy.Copy_management(source_FC, destination_FC)"
   ]
  },
  {
   "attachments": {},
   "cell_type": "markdown",
   "metadata": {},
   "source": [
    "Step 9: Perform Hot-Spot Analysis for Fields of Interest --- **ONLY FOR LAST RUN**  "
   ]
  },
  {
   "cell_type": "code",
   "execution_count": 32,
   "metadata": {},
   "outputs": [],
   "source": [
    "# TRANSFORM 'hexBin_ALL_{yr}' SO THERE IS A ROW FOR EACH FEATURE FOR EACH YEAR"
   ]
  },
  {
   "cell_type": "code",
   "execution_count": 33,
   "metadata": {},
   "outputs": [],
   "source": [
    "# LOOP TO DO ANALYSIS FOR FIELDS OF INTEREST"
   ]
  },
  {
   "attachments": {},
   "cell_type": "markdown",
   "metadata": {},
   "source": [
    "For Phase II - Land Use Analysis "
   ]
  },
  {
   "cell_type": "code",
   "execution_count": 34,
   "metadata": {},
   "outputs": [],
   "source": [
    "# # calculate 'resUnitsAllowed' (using zoning category dictionary & CALC_ACREA)\n",
    "\n",
    "\n",
    "# # TODO: Need to add in additional zoning districts & make assumption for PUD/UPUD OR go  by future land use \n",
    "\n",
    "# densityDict = {\n",
    "#         'AC': 45,\n",
    "#         'ASN-A': 50,\n",
    "#         'ASN-B': 50,\n",
    "#         'ASN-C': 75,\n",
    "#         'ASN-D': 100,\n",
    "#         'C-1': 16,\n",
    "#         'C-2': 16,\n",
    "#         'CC': 150,\n",
    "#         'CM': 20,\n",
    "#         'CP': 16,\n",
    "#         'CU-12': 12,\n",
    "#         'CU-18': 18,\n",
    "#         'CU-26': 26,\n",
    "#         'CU-45': 45,\n",
    "#         'IC': 16,\n",
    "#         'LP': 0.5,\n",
    "#         'MCN': 12,\n",
    "#         'MH': 8,\n",
    "#         'MR-1': 20,\n",
    "#         'NB-1': 18,\n",
    "#         'NBO': 8,\n",
    "#         'OR-1': 8,\n",
    "#         'OR-2': 16,\n",
    "#         'OR-3': 20,\n",
    "#         'RA': 1,\n",
    "#         'R-1': 3.63,\n",
    "#         'R-2': 4.84,\n",
    "#         'R-3': 8,\n",
    "#         'R-4': 10,\n",
    "#         'R-5': 8,\n",
    "#         'R': 0.1,\n",
    "#         'RP': 6,\n",
    "#         'RP-1': 3.6,\n",
    "#         'RP-2': 6,\n",
    "#         'RP-MH': 6,\n",
    "#         'SCD': 6,\n",
    "#         'UP-1': 16,\n",
    "#         'UP-2': 20,\n",
    "#         'UT': 50,\n",
    "#         'UV': 100\n",
    "#         }\n",
    "\n",
    "# inTable_unitsAllowed = f'/intermediate_parcel_FCs/parcels_{yr}'\n",
    "# fieldName_unitsAllowed = 'unitsAllowed'\n",
    "# expression_unitsAllowed = 'calc_unitsAllowed(!ZONING!, !CALC_ACREA!)'\n",
    "# codeblock_unitsAllowed = '''\n",
    "# def calc_unitsAllowed(zoning, acreage):\n",
    "#     for district in densityDict:\n",
    "#         if zoning == district:\n",
    "#             return acreage * densityDict[district]'''\n",
    "\n",
    "# # calculate the new field\n",
    "# arcpy.management.CalculateField(inTable_unitsAllowed, fieldName_unitsAllowed, expression_unitsAllowed, \"PYTHON3\", codeblock_unitsAllowed, field_type=\"DOUBLE\")  "
   ]
  },
  {
   "cell_type": "code",
   "execution_count": 35,
   "metadata": {},
   "outputs": [],
   "source": [
    "# WILL BE STEP 4 & WILL NEED TO CHANGE THE NAME OF 'hexBin_{yr}' TO 'hexBin_preJoin_{yr}' IN STEP 3\n",
    "\n",
    "# THIS ISN'T NEEDED UNTIL PHASE 2 - HOLD FOR NOW\n",
    "\n",
    "# Step 4: Spatial Join to exlu{yr} to Populate Fields by Largest Overlap\n",
    "\n",
    "# Spatial Join between 'parcels_{yr}' & 'hexBin_preJoin_{yr}' based on Largest Overlap to populate the following fields:\n",
    "# target_features = f'/hexBin_FCs/hexBin_preJoin_{yr}'\n",
    "# join_features = f'/intermediate_parcel_FCs/parcels_{yr}'\n",
    "# out_feature_class = f'/hexBin_FCs/hexBin_{yr}'\n",
    "\n",
    "# arcpy.analysis.SpatialJoin(target_features, join_features, out_feature_class, match_option='LARGEST_OVERLAP')\n",
    "\n",
    "# ExLandUse\n",
    "# Zoning\n",
    "# pattern\n",
    "# YR_BLT\n",
    "# SALEDTE_S1\n",
    "# SALEDTE_S2\n",
    "\n",
    "\n",
    "# maybe later add 'PROP_USE'"
   ]
  }
 ],
 "metadata": {
  "kernelspec": {
   "display_name": "Python 3",
   "language": "python",
   "name": "python3"
  },
  "language_info": {
   "codemirror_mode": {
    "name": "ipython",
    "version": 3
   },
   "file_extension": ".py",
   "mimetype": "text/x-python",
   "name": "python",
   "nbconvert_exporter": "python",
   "pygments_lexer": "ipython3",
   "version": "3.7.11"
  },
  "orig_nbformat": 4,
  "vscode": {
   "interpreter": {
    "hash": "3944b91bf37e21a9df249d6dad6d8b1b906c10c69dfcaade496a1b43983fec7d"
   }
  }
 },
 "nbformat": 4,
 "nbformat_minor": 2
}
