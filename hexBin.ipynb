{
 "cells": [
  {
   "attachments": {},
   "cell_type": "markdown",
   "metadata": {},
   "source": [
    "This script takes exlu feature classes (derived from the Leon County Property Appraiser annual parcel database update) from 2009 onward & converts them into hexbins with various attributes derived from parcel attributes. Each year's exlu is converted into a new hexbin feature class, and then all hexbin feature classes are combined into one feature class. \n",
    "\n",
    "author: Cherie Bryant for Geog 778 (U of Wisconsin-Madison Cartography)"
   ]
  },
  {
   "attachments": {},
   "cell_type": "markdown",
   "metadata": {},
   "source": [
    "**SETUP WORKSPACE**"
   ]
  },
  {
   "cell_type": "code",
   "execution_count": null,
   "metadata": {},
   "outputs": [],
   "source": [
    "import arcpy\n",
    "\n",
    "# set initial workspace\n",
    "arcpy.env.workspace = r\"C:\\Users\\cheri\\Documents\\geog778\\ResidentialUnitTimeAnalysis\\ResidentialUnitTimeAnalysis.gdb\"\n",
    "\n",
    "# tell python it's OK to overwrite previous versions of layers & feature classes\n",
    "arcpy.env.overwriteOutput = True\n",
    "\n",
    "# set the year\n",
    "yr = '09'\n",
    "\n",
    "# copy exlu{yr} into a temporary feature layer \n",
    "temp_exlu_lyr = f'exlu_{yr}'\n",
    "\n",
    "###################\n",
    "#TO DO - move Part 2 into a main module \n",
    "###################\n",
    "# for now hardcoding year since each run takes so long; will run one at a time; in the future, will only need to run Part 1 for the new year data; for this reason, should move Part 2 into the main script & call this one from main.ipynb.\n"
   ]
  },
  {
   "attachments": {},
   "cell_type": "markdown",
   "metadata": {},
   "source": [
    "**PART 1: CREATE HEXBIN FEATURE CLASSES FOR EACH YEAR**"
   ]
  },
  {
   "attachments": {},
   "cell_type": "markdown",
   "metadata": {},
   "source": [
    "1-1: Pre-process exlu"
   ]
  },
  {
   "cell_type": "code",
   "execution_count": null,
   "metadata": {},
   "outputs": [],
   "source": [
    "#  convert to equal area projection - tests showed without conversion, hexagon bins were sizes within .000001 acre"
   ]
  },
  {
   "cell_type": "code",
   "execution_count": null,
   "metadata": {},
   "outputs": [],
   "source": [
    "# RENAME THE  HX{yr} FIELD TO  'HX'\n",
    "\n",
    "new_field_name = 'HX'\n",
    "new_field_alias = 'HX'\n",
    "\n",
    "# get a list of the fields\n",
    "fieldList = arcpy.ListFields(temp_exlu_lyr)\n",
    "\n",
    "for field in fieldList:\n",
    "    if field.name.startswith() == 'HX':\n",
    "        arcpy.management.AlterField(temp_exlu_lyr, field.name, new_field_name, new_field_alias)"
   ]
  },
  {
   "cell_type": "code",
   "execution_count": null,
   "metadata": {},
   "outputs": [],
   "source": [
    "# KEEP ONLY THE NECESSARY FIELDS\n",
    "\n",
    "in_table = temp_exlu_lyr\n",
    "fields = ['resunits', 'PYR_MARKET', 'PYR_TAXES', 'PRICE_S1', 'PRICE_S2', 'HX', 'ZONING', 'ZONED', 'CALC_ACREA', 'exlanduse', 'PROP_USE', 'BASE_SQ_FT', 'AUX_SQ_FT', 'SALEDTE_S1', 'SALEDTE_S2', 'pattern']\n",
    "\n",
    "arcpy.management.DeleteField(in_table, fields, method='KEEP_FIELDS')"
   ]
  },
  {
   "cell_type": "code",
   "execution_count": null,
   "metadata": {},
   "outputs": [],
   "source": [
    "# CLIP parcels_{yr} BY THE URBAN SERVICE AREA BOUNDARY & SAVE TO PERMANENT FEATURE CLASS\n",
    "\n",
    "in_features = in_table\n",
    "clip_features = 'urban_service_boundary'\n",
    "out_feature_class = f'parcels_{yr}'  \n",
    "\n",
    "# temporarily set the environment to the data...\n",
    "with arcpy.EnvManager(workspace=r'd:\\data\\data.gdb'):\n",
    "    feature_classes = arcpy.ListFeatureClasses(feature_type='POLYGON')\n",
    "\n",
    "arcpy.analysis.Clip(in_features, clip_features, out_feature_class)"
   ]
  },
  {
   "attachments": {},
   "cell_type": "markdown",
   "metadata": {},
   "source": [
    "1-2: Calculate Needed Fields"
   ]
  },
  {
   "cell_type": "code",
   "execution_count": null,
   "metadata": {},
   "outputs": [],
   "source": [
    "# calculate new field 'Homestead' (short) with value of \"1\" if HX{yr} is \"X\" and \"0\" if else"
   ]
  },
  {
   "cell_type": "code",
   "execution_count": null,
   "metadata": {},
   "outputs": [],
   "source": [
    "# calculate 'resUnitsAllowed' (using zoning category dictionary & CALC_ACREA)\n"
   ]
  },
  {
   "cell_type": "code",
   "execution_count": null,
   "metadata": {},
   "outputs": [],
   "source": [
    "# calculate 'nonResSF' (using exlanduse OR PROP_USE, BASE_SQ_FT+AUX_SQ_FT"
   ]
  },
  {
   "cell_type": "code",
   "execution_count": null,
   "metadata": {},
   "outputs": [],
   "source": [
    "# calculate COUNT of sales for that year based on SALEDTE_S1"
   ]
  },
  {
   "attachments": {},
   "cell_type": "markdown",
   "metadata": {},
   "source": [
    "1-3: Place the Parcel Data Into Hexbins"
   ]
  },
  {
   "cell_type": "code",
   "execution_count": null,
   "metadata": {},
   "outputs": [],
   "source": [
    "# Summarize Within (Geoprocessing) with a bin size of 224.2677 feet* with the following summary fields: (*subsequent years will use hexBin_2009 polygons as inputs instead of bins)\n",
    "\n",
    "# resunits (sum)\n",
    "# PYR_MARKET (sum)\n",
    "# PYR_TAXES (sum)\n",
    "# PRICE_S1 (sum)\n",
    "# PRICE_S2 (sum)\n",
    "# Homestead (sum)\n",
    "# resUnitsAllowed (sum)\n",
    "# nonResSF (sum)\n",
    "# PrYrSales_Count (sum)"
   ]
  },
  {
   "attachments": {},
   "cell_type": "markdown",
   "metadata": {},
   "source": [
    "1-4: Spatial Join to exlu{yr} to Populate Non-numeric Fields"
   ]
  },
  {
   "cell_type": "code",
   "execution_count": null,
   "metadata": {},
   "outputs": [],
   "source": [
    "# Spatial Join between 'exlu09' & 'hexBin_2009' based on Largest Overlap to populate the following fields:\n",
    "\n",
    "# ExLandUse\n",
    "# PROP_USE\n",
    "# Zoning\n",
    "# pattern\n",
    "# YR_BLT\n",
    "# SALEDTE_S1\n",
    "# SALEDTE_S2"
   ]
  },
  {
   "attachments": {},
   "cell_type": "markdown",
   "metadata": {},
   "source": [
    "1-5: Calculate New Fields for the Hexbin Feature Class"
   ]
  },
  {
   "cell_type": "code",
   "execution_count": null,
   "metadata": {},
   "outputs": [],
   "source": [
    "# Assign a BIN_ID number (can copy ObjectID) - ONLY NEEDED FOR 2009 "
   ]
  },
  {
   "cell_type": "code",
   "execution_count": null,
   "metadata": {},
   "outputs": [],
   "source": [
    "# valuation per unit (PYR_MARKET/resunits)"
   ]
  },
  {
   "cell_type": "code",
   "execution_count": null,
   "metadata": {},
   "outputs": [],
   "source": [
    "# taxes per unit (PYR_TAXES/resunits)"
   ]
  },
  {
   "attachments": {},
   "cell_type": "markdown",
   "metadata": {},
   "source": [
    "**PART 2 - JOIN ALL YEARS TOGETHER INTO ONE FEATURE CLASS**"
   ]
  },
  {
   "attachments": {},
   "cell_type": "markdown",
   "metadata": {},
   "source": [
    "Step 2-1: Prep the individual datasets for join"
   ]
  },
  {
   "cell_type": "code",
   "execution_count": null,
   "metadata": {},
   "outputs": [],
   "source": [
    "# for field in fields:\n",
    "# rename field to {fieldName}_{yr} (i.e., \"resunits_09\")"
   ]
  },
  {
   "attachments": {},
   "cell_type": "markdown",
   "metadata": {},
   "source": [
    "Step 2-2: Join all years"
   ]
  },
  {
   "cell_type": "code",
   "execution_count": null,
   "metadata": {},
   "outputs": [],
   "source": [
    "# Join all years together by BIN_ID & save to permanent feature class hexBins_All_{last_year} (i.e., \"hexBins_ALL_2022\")"
   ]
  }
 ],
 "metadata": {
  "kernelspec": {
   "display_name": "Python 3",
   "language": "python",
   "name": "python3"
  },
  "language_info": {
   "name": "python",
   "version": "3.7.11"
  },
  "orig_nbformat": 4,
  "vscode": {
   "interpreter": {
    "hash": "3944b91bf37e21a9df249d6dad6d8b1b906c10c69dfcaade496a1b43983fec7d"
   }
  }
 },
 "nbformat": 4,
 "nbformat_minor": 2
}
