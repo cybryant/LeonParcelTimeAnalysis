{
 "cells": [
  {
   "cell_type": "code",
   "execution_count": 1,
   "metadata": {},
   "outputs": [],
   "source": [
    "import arcpy\n",
    "\n",
    "# set initial workspace\n",
    "arcpy.env.workspace = r'C:\\Users\\bryantch\\Documents\\ArcGIS\\Projects\\hexbin_parcel_analysis\\hexbin_parcel_analysis.gdb'"
   ]
  },
  {
   "cell_type": "code",
   "execution_count": 13,
   "metadata": {},
   "outputs": [],
   "source": [
    "# create lists of the annual variable fields\n",
    "\n",
    "attribute_names = ['resunits', 'homesteads', 'nonressf', 'pyr_market', 'pyr_taxes']"
   ]
  },
  {
   "cell_type": "code",
   "execution_count": 12,
   "metadata": {},
   "outputs": [],
   "source": [
    "# For each variable of interest, transpose the table to pull out one row for each year for each hexagram. This will produce a separate table for each variable.\n",
    "\n",
    "for name in attribute_names:\n",
    "    in_table_transp = fr'C:\\Users\\bryantch\\Documents\\ArcGIS\\Projects\\hexbin_parcel_analysis\\hexbin_parcel_analysis.gdb\\{name}_hexbins'\n",
    "    in_field_transp = f'{name}_2009_n 2009; {name}_2010_n 2010; {name}_2011_n 2011; {name}_2012_n 2012; {name}_2013_n 2013; {name}_2014_n 2014; {name}_2015_n 2015; {name}_2016_n 2016; {name}_2017_n 2017; {name}_2018_n 2018; {name}_2019_n 2019; {name}_2020_n 2020; {name}_2021_n 2021; {name}_2022_n 2022'\n",
    "    out_table_transp = f'{name}_transp' \n",
    "    in_transposed_field_name = 'year' \n",
    "    in_value_field_name = f'{name}'\n",
    "    attribute_fields = ['SHAPE', 'OBJECTID']\n",
    "    \n",
    "    arcpy.management.TransposeFields(in_table_transp, in_field_transp, out_table_transp, in_transposed_field_name, in_value_field_name, attribute_fields)"
   ]
  },
  {
   "cell_type": "code",
   "execution_count": 15,
   "metadata": {},
   "outputs": [],
   "source": [
    "# For each new table, calculate a new field by copying 'year' into a new date type field. \n",
    "\n",
    "for name in attribute_names:\n",
    "    in_table_date = f'{name}_transp'\n",
    "    input_time_field = 'year'\n",
    "    input_time_format = 'yyyy'\n",
    "    output_time_field = 'yearDate'\n",
    "    output_time_type = 'DATE'\n",
    "\n",
    "    arcpy.management.ConvertTimeField(in_table_date, input_time_field, input_time_format, output_time_field, output_time_type)"
   ]
  },
  {
   "cell_type": "code",
   "execution_count": 16,
   "metadata": {},
   "outputs": [],
   "source": [
    "# Space Time Cube requires a number variable to go into each bin, so we first need to convert the attribute field into a number type\n",
    "\n",
    "for name in attribute_names:\n",
    "    inFeatures_num = f'{name}_transp'\n",
    "    field_name_num = f'{name}NUM'\n",
    "    expression_num = f'!{name}!'\n",
    "\n",
    "    arcpy.management.CalculateField(inFeatures_num, field_name_num, expression_num, \"PYTHON3\", field_type='FLOAT')"
   ]
  },
  {
   "cell_type": "code",
   "execution_count": 21,
   "metadata": {},
   "outputs": [],
   "source": [
    "# create space time cube\n",
    "\n",
    "for name in attribute_names:\n",
    "\n",
    "    in_features_cube = f'{name}_transp'\n",
    "    output_cube = fr'C:\\Users\\bryantch\\Documents\\ArcGIS\\Projects\\hexbin_parcel_analysis\\hexbin_parcel_analysis.gdb\\{name}_STCube.nc'\n",
    "    location_id = 'OBJECTID_1'\n",
    "    temporal_aggregation = 'NO_TEMPORAL_AGGREGATION'\n",
    "    time_field = 'yearDate'\n",
    "    varsOfInterest = f'{name}_N_SPACE_TIME_NEIGHBORS'    \n",
    "\n",
    "    arcpy.stpm.CreateSpaceTimeCubeDefinedLocations(in_features_cube, output_cube, location_id, temporal_aggregation, time_field, time_step_interval= '1 Years', time_step_alignment='END_TIME', variables=varsOfInterest)\n",
    "\n",
    "    # arcpy.stpm.CreateSpaceTimeCubeDefinedLocations(in_features, output_cube, location_id, temporal_aggregation, time_field, {time_step_interval}, {time_step_alignment}, {reference_time}, {variables}, {summary_fields}, {in_related_table}, {related_location_id})"
   ]
  },
  {
   "cell_type": "code",
   "execution_count": 24,
   "metadata": {},
   "outputs": [
    {
     "ename": "ExecuteError",
     "evalue": "Failed to execute. Parameters are not valid.\nERROR 110024: <built-in method upper of str object at 0x000002195734E770>NUM_NONE_SPACE_TIME_NEIGHBORS is not a variable in the Space Time Cube.\nFailed to execute (EmergingHotSpotAnalysis).\n",
     "output_type": "error",
     "traceback": [
      "\u001b[1;31m---------------------------------------------------------------------------\u001b[0m",
      "\u001b[1;31mExecuteError\u001b[0m                              Traceback (most recent call last)",
      "\u001b[1;32m~\\AppData\\Local\\Temp\\ipykernel_20932\\1695634787.py\u001b[0m in \u001b[0;36m<cell line: 3>\u001b[1;34m()\u001b[0m\n\u001b[0;32m      7\u001b[0m     \u001b[0moutput_features\u001b[0m \u001b[1;33m=\u001b[0m \u001b[1;34mf'{name}_STCube_EmergingHotSpotAnalysis'\u001b[0m\u001b[1;33m\u001b[0m\u001b[1;33m\u001b[0m\u001b[0m\n\u001b[0;32m      8\u001b[0m \u001b[1;33m\u001b[0m\u001b[0m\n\u001b[1;32m----> 9\u001b[1;33m     \u001b[0marcpy\u001b[0m\u001b[1;33m.\u001b[0m\u001b[0mstpm\u001b[0m\u001b[1;33m.\u001b[0m\u001b[0mEmergingHotSpotAnalysis\u001b[0m\u001b[1;33m(\u001b[0m\u001b[0min_cube\u001b[0m\u001b[1;33m,\u001b[0m \u001b[0manalysis_variable\u001b[0m\u001b[1;33m,\u001b[0m \u001b[0moutput_features\u001b[0m\u001b[1;33m,\u001b[0m \u001b[0mconceptualization_of_spatial_relationships\u001b[0m\u001b[1;33m=\u001b[0m\u001b[1;34m'FIXED_DISTANCE'\u001b[0m\u001b[1;33m,\u001b[0m \u001b[0mdefine_global_window\u001b[0m\u001b[1;33m=\u001b[0m\u001b[1;34m'ENTIRE_CUBE'\u001b[0m\u001b[1;33m)\u001b[0m\u001b[1;33m\u001b[0m\u001b[1;33m\u001b[0m\u001b[0m\n\u001b[0m",
      "\u001b[1;32mc:\\Program Files\\ArcGIS\\Pro\\Resources\\ArcPy\\arcpy\\stpm.py\u001b[0m in \u001b[0;36mEmergingHotSpotAnalysis\u001b[1;34m(in_cube, analysis_variable, output_features, neighborhood_distance, neighborhood_time_step, polygon_mask, conceptualization_of_spatial_relationships, number_of_neighbors, define_global_window)\u001b[0m\n\u001b[0;32m    735\u001b[0m         \u001b[1;32mreturn\u001b[0m \u001b[0mretval\u001b[0m\u001b[1;33m\u001b[0m\u001b[1;33m\u001b[0m\u001b[0m\n\u001b[0;32m    736\u001b[0m     \u001b[1;32mexcept\u001b[0m \u001b[0mException\u001b[0m \u001b[1;32mas\u001b[0m \u001b[0me\u001b[0m\u001b[1;33m:\u001b[0m\u001b[1;33m\u001b[0m\u001b[1;33m\u001b[0m\u001b[0m\n\u001b[1;32m--> 737\u001b[1;33m         \u001b[1;32mraise\u001b[0m \u001b[0me\u001b[0m\u001b[1;33m\u001b[0m\u001b[1;33m\u001b[0m\u001b[0m\n\u001b[0m\u001b[0;32m    738\u001b[0m \u001b[1;33m\u001b[0m\u001b[0m\n\u001b[0;32m    739\u001b[0m \u001b[1;33m@\u001b[0m\u001b[0mgptooldoc\u001b[0m\u001b[1;33m(\u001b[0m\u001b[1;34m'LocalOutlierAnalysis_stpm'\u001b[0m\u001b[1;33m,\u001b[0m \u001b[1;32mNone\u001b[0m\u001b[1;33m)\u001b[0m\u001b[1;33m\u001b[0m\u001b[1;33m\u001b[0m\u001b[0m\n",
      "\u001b[1;32mc:\\Program Files\\ArcGIS\\Pro\\Resources\\ArcPy\\arcpy\\stpm.py\u001b[0m in \u001b[0;36mEmergingHotSpotAnalysis\u001b[1;34m(in_cube, analysis_variable, output_features, neighborhood_distance, neighborhood_time_step, polygon_mask, conceptualization_of_spatial_relationships, number_of_neighbors, define_global_window)\u001b[0m\n\u001b[0;32m    732\u001b[0m     \u001b[1;32mfrom\u001b[0m \u001b[0marcpy\u001b[0m\u001b[1;33m.\u001b[0m\u001b[0marcobjects\u001b[0m\u001b[1;33m.\u001b[0m\u001b[0marcobjectconversion\u001b[0m \u001b[1;32mimport\u001b[0m \u001b[0mconvertArcObjectToPythonObject\u001b[0m\u001b[1;33m\u001b[0m\u001b[1;33m\u001b[0m\u001b[0m\n\u001b[0;32m    733\u001b[0m     \u001b[1;32mtry\u001b[0m\u001b[1;33m:\u001b[0m\u001b[1;33m\u001b[0m\u001b[1;33m\u001b[0m\u001b[0m\n\u001b[1;32m--> 734\u001b[1;33m         \u001b[0mretval\u001b[0m \u001b[1;33m=\u001b[0m \u001b[0mconvertArcObjectToPythonObject\u001b[0m\u001b[1;33m(\u001b[0m\u001b[0mgp\u001b[0m\u001b[1;33m.\u001b[0m\u001b[0mEmergingHotSpotAnalysis_stpm\u001b[0m\u001b[1;33m(\u001b[0m\u001b[1;33m*\u001b[0m\u001b[0mgp_fixargs\u001b[0m\u001b[1;33m(\u001b[0m\u001b[1;33m(\u001b[0m\u001b[0min_cube\u001b[0m\u001b[1;33m,\u001b[0m \u001b[0manalysis_variable\u001b[0m\u001b[1;33m,\u001b[0m \u001b[0moutput_features\u001b[0m\u001b[1;33m,\u001b[0m \u001b[0mneighborhood_distance\u001b[0m\u001b[1;33m,\u001b[0m \u001b[0mneighborhood_time_step\u001b[0m\u001b[1;33m,\u001b[0m \u001b[0mpolygon_mask\u001b[0m\u001b[1;33m,\u001b[0m \u001b[0mconceptualization_of_spatial_relationships\u001b[0m\u001b[1;33m,\u001b[0m \u001b[0mnumber_of_neighbors\u001b[0m\u001b[1;33m,\u001b[0m \u001b[0mdefine_global_window\u001b[0m\u001b[1;33m)\u001b[0m\u001b[1;33m,\u001b[0m \u001b[1;32mTrue\u001b[0m\u001b[1;33m)\u001b[0m\u001b[1;33m)\u001b[0m\u001b[1;33m)\u001b[0m\u001b[1;33m\u001b[0m\u001b[1;33m\u001b[0m\u001b[0m\n\u001b[0m\u001b[0;32m    735\u001b[0m         \u001b[1;32mreturn\u001b[0m \u001b[0mretval\u001b[0m\u001b[1;33m\u001b[0m\u001b[1;33m\u001b[0m\u001b[0m\n\u001b[0;32m    736\u001b[0m     \u001b[1;32mexcept\u001b[0m \u001b[0mException\u001b[0m \u001b[1;32mas\u001b[0m \u001b[0me\u001b[0m\u001b[1;33m:\u001b[0m\u001b[1;33m\u001b[0m\u001b[1;33m\u001b[0m\u001b[0m\n",
      "\u001b[1;32mc:\\Program Files\\ArcGIS\\Pro\\Resources\\ArcPy\\arcpy\\geoprocessing\\_base.py\u001b[0m in \u001b[0;36m<lambda>\u001b[1;34m(*args)\u001b[0m\n\u001b[0;32m    510\u001b[0m         \u001b[0mval\u001b[0m \u001b[1;33m=\u001b[0m \u001b[0mgetattr\u001b[0m\u001b[1;33m(\u001b[0m\u001b[0mself\u001b[0m\u001b[1;33m.\u001b[0m\u001b[0m_gp\u001b[0m\u001b[1;33m,\u001b[0m \u001b[0mattr\u001b[0m\u001b[1;33m)\u001b[0m\u001b[1;33m\u001b[0m\u001b[1;33m\u001b[0m\u001b[0m\n\u001b[0;32m    511\u001b[0m         \u001b[1;32mif\u001b[0m \u001b[0mcallable\u001b[0m\u001b[1;33m(\u001b[0m\u001b[0mval\u001b[0m\u001b[1;33m)\u001b[0m\u001b[1;33m:\u001b[0m\u001b[1;33m\u001b[0m\u001b[1;33m\u001b[0m\u001b[0m\n\u001b[1;32m--> 512\u001b[1;33m             \u001b[1;32mreturn\u001b[0m \u001b[1;32mlambda\u001b[0m \u001b[1;33m*\u001b[0m\u001b[0margs\u001b[0m\u001b[1;33m:\u001b[0m \u001b[0mval\u001b[0m\u001b[1;33m(\u001b[0m\u001b[1;33m*\u001b[0m\u001b[0mgp_fixargs\u001b[0m\u001b[1;33m(\u001b[0m\u001b[0margs\u001b[0m\u001b[1;33m,\u001b[0m \u001b[1;32mTrue\u001b[0m\u001b[1;33m)\u001b[0m\u001b[1;33m)\u001b[0m\u001b[1;33m\u001b[0m\u001b[1;33m\u001b[0m\u001b[0m\n\u001b[0m\u001b[0;32m    513\u001b[0m         \u001b[1;32melse\u001b[0m\u001b[1;33m:\u001b[0m\u001b[1;33m\u001b[0m\u001b[1;33m\u001b[0m\u001b[0m\n\u001b[0;32m    514\u001b[0m             \u001b[1;32mreturn\u001b[0m \u001b[0mconvertArcObjectToPythonObject\u001b[0m\u001b[1;33m(\u001b[0m\u001b[0mval\u001b[0m\u001b[1;33m)\u001b[0m\u001b[1;33m\u001b[0m\u001b[1;33m\u001b[0m\u001b[0m\n",
      "\u001b[1;31mExecuteError\u001b[0m: Failed to execute. Parameters are not valid.\nERROR 110024: <built-in method upper of str object at 0x000002195734E770>NUM_NONE_SPACE_TIME_NEIGHBORS is not a variable in the Space Time Cube.\nFailed to execute (EmergingHotSpotAnalysis).\n"
     ]
    }
   ],
   "source": [
    "# For each Space Time Cube, do an emerging hotspot/cold spot analysis.\n",
    "\n",
    "for name in attribute_names:\n",
    "\n",
    "    in_cube = fr'C:\\Users\\bryantch\\Documents\\ArcGIS\\Projects\\hexbin_parcel_analysis\\hexbin_parcel_analysis.gdb\\{name}_STCube.nc'\n",
    "    name = name.upper\n",
    "    analysis_variable = f'{name}_N_NONE_SPACE_TIME_NEIGHBORS' #getting error on this because it needs to be all caps. Ran all manually but needs to be fixed.\n",
    "    output_features = f'{name}_STCube_EmergingHotSpotAnalysis'\n",
    "\n",
    "    arcpy.stpm.EmergingHotSpotAnalysis(in_cube, analysis_variable, output_features, conceptualization_of_spatial_relationships='FIXED_DISTANCE', define_global_window='ENTIRE_CUBE')"
   ]
  },
  {
   "cell_type": "code",
   "execution_count": null,
   "metadata": {},
   "outputs": [],
   "source": []
  }
 ],
 "metadata": {
  "kernelspec": {
   "display_name": "Python 3",
   "language": "python",
   "name": "python3"
  },
  "language_info": {
   "codemirror_mode": {
    "name": "ipython",
    "version": 3
   },
   "file_extension": ".py",
   "mimetype": "text/x-python",
   "name": "python",
   "nbconvert_exporter": "python",
   "pygments_lexer": "ipython3",
   "version": "3.9.16"
  },
  "orig_nbformat": 4
 },
 "nbformat": 4,
 "nbformat_minor": 2
}
