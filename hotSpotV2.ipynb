{
 "cells": [
  {
   "cell_type": "code",
   "execution_count": 31,
   "metadata": {},
   "outputs": [],
   "source": [
    "import arcpy\n",
    "\n",
    "# set initial workspace\n",
    "arcpy.env.workspace = r'C:\\Users\\bryantch\\Documents\\ArcGIS\\Projects\\hexbin_parcel_analysis\\hexbin_parcel_analysis.gdb'\n",
    "# create lists of the annual variable fields\n",
    "\n",
    "attribute_names = ['resunits', 'homestead', 'nonressf', 'pyr_market', 'pyr_taxes']"
   ]
  },
  {
   "cell_type": "code",
   "execution_count": 34,
   "metadata": {},
   "outputs": [
    {
     "ename": "ExecuteError",
     "evalue": "Failed to execute. Parameters are not valid.\nERROR 000732: Input Table: Dataset C:\\Users\\bryantch\\Documents\\ArcGIS\\Projects\\hexbin_parcel_analysis\\hexbin_parcel_analysis.gdb\\attribute_FCs\\resunits_hexbins does not exist or is not supported\nERROR 000725: Output Table: Dataset C:\\Users\\bryantch\\Documents\\ArcGIS\\Projects\\hexbin_parcel_analysis\\hexbin_parcel_analysis.gdb\\resunits_transp already exists.\nFailed to execute (TransposeFields).\n",
     "output_type": "error",
     "traceback": [
      "\u001b[1;31m---------------------------------------------------------------------------\u001b[0m",
      "\u001b[1;31mExecuteError\u001b[0m                              Traceback (most recent call last)",
      "\u001b[1;32mC:\\Temp\\ipykernel_2528\\2757103817.py\u001b[0m in \u001b[0;36m<cell line: 3>\u001b[1;34m()\u001b[0m\n\u001b[0;32m     16\u001b[0m \u001b[1;33m\u001b[0m\u001b[0m\n\u001b[0;32m     17\u001b[0m \u001b[1;33m\u001b[0m\u001b[0m\n\u001b[1;32m---> 18\u001b[1;33m     \u001b[0marcpy\u001b[0m\u001b[1;33m.\u001b[0m\u001b[0mmanagement\u001b[0m\u001b[1;33m.\u001b[0m\u001b[0mTransposeFields\u001b[0m\u001b[1;33m(\u001b[0m\u001b[0min_table_transp\u001b[0m\u001b[1;33m,\u001b[0m \u001b[0min_field_transp\u001b[0m\u001b[1;33m,\u001b[0m \u001b[0mout_table_transp\u001b[0m\u001b[1;33m,\u001b[0m \u001b[0min_transposed_field_name\u001b[0m\u001b[1;33m,\u001b[0m \u001b[0min_value_field_name\u001b[0m\u001b[1;33m,\u001b[0m \u001b[0mattribute_fields\u001b[0m\u001b[1;33m)\u001b[0m\u001b[1;33m\u001b[0m\u001b[1;33m\u001b[0m\u001b[0m\n\u001b[0m",
      "\u001b[1;32mC:\\Program Files\\ArcGIS\\Pro\\Resources\\ArcPy\\arcpy\\management.py\u001b[0m in \u001b[0;36mTransposeFields\u001b[1;34m(in_table, in_field, out_table, in_transposed_field_name, in_value_field_name, attribute_fields)\u001b[0m\n\u001b[0;32m   7038\u001b[0m         \u001b[1;32mreturn\u001b[0m \u001b[0mretval\u001b[0m\u001b[1;33m\u001b[0m\u001b[1;33m\u001b[0m\u001b[0m\n\u001b[0;32m   7039\u001b[0m     \u001b[1;32mexcept\u001b[0m \u001b[0mException\u001b[0m \u001b[1;32mas\u001b[0m \u001b[0me\u001b[0m\u001b[1;33m:\u001b[0m\u001b[1;33m\u001b[0m\u001b[1;33m\u001b[0m\u001b[0m\n\u001b[1;32m-> 7040\u001b[1;33m         \u001b[1;32mraise\u001b[0m \u001b[0me\u001b[0m\u001b[1;33m\u001b[0m\u001b[1;33m\u001b[0m\u001b[0m\n\u001b[0m\u001b[0;32m   7041\u001b[0m \u001b[1;33m\u001b[0m\u001b[0m\n\u001b[0;32m   7042\u001b[0m \u001b[1;33m\u001b[0m\u001b[0m\n",
      "\u001b[1;32mC:\\Program Files\\ArcGIS\\Pro\\Resources\\ArcPy\\arcpy\\management.py\u001b[0m in \u001b[0;36mTransposeFields\u001b[1;34m(in_table, in_field, out_table, in_transposed_field_name, in_value_field_name, attribute_fields)\u001b[0m\n\u001b[0;32m   7035\u001b[0m     \u001b[1;32mfrom\u001b[0m \u001b[0marcpy\u001b[0m\u001b[1;33m.\u001b[0m\u001b[0marcobjects\u001b[0m\u001b[1;33m.\u001b[0m\u001b[0marcobjectconversion\u001b[0m \u001b[1;32mimport\u001b[0m \u001b[0mconvertArcObjectToPythonObject\u001b[0m\u001b[1;33m\u001b[0m\u001b[1;33m\u001b[0m\u001b[0m\n\u001b[0;32m   7036\u001b[0m     \u001b[1;32mtry\u001b[0m\u001b[1;33m:\u001b[0m\u001b[1;33m\u001b[0m\u001b[1;33m\u001b[0m\u001b[0m\n\u001b[1;32m-> 7037\u001b[1;33m         \u001b[0mretval\u001b[0m \u001b[1;33m=\u001b[0m \u001b[0mconvertArcObjectToPythonObject\u001b[0m\u001b[1;33m(\u001b[0m\u001b[0mgp\u001b[0m\u001b[1;33m.\u001b[0m\u001b[0mTransposeFields_management\u001b[0m\u001b[1;33m(\u001b[0m\u001b[1;33m*\u001b[0m\u001b[0mgp_fixargs\u001b[0m\u001b[1;33m(\u001b[0m\u001b[1;33m(\u001b[0m\u001b[0min_table\u001b[0m\u001b[1;33m,\u001b[0m \u001b[0min_field\u001b[0m\u001b[1;33m,\u001b[0m \u001b[0mout_table\u001b[0m\u001b[1;33m,\u001b[0m \u001b[0min_transposed_field_name\u001b[0m\u001b[1;33m,\u001b[0m \u001b[0min_value_field_name\u001b[0m\u001b[1;33m,\u001b[0m \u001b[0mattribute_fields\u001b[0m\u001b[1;33m)\u001b[0m\u001b[1;33m,\u001b[0m \u001b[1;32mTrue\u001b[0m\u001b[1;33m)\u001b[0m\u001b[1;33m)\u001b[0m\u001b[1;33m)\u001b[0m\u001b[1;33m\u001b[0m\u001b[1;33m\u001b[0m\u001b[0m\n\u001b[0m\u001b[0;32m   7038\u001b[0m         \u001b[1;32mreturn\u001b[0m \u001b[0mretval\u001b[0m\u001b[1;33m\u001b[0m\u001b[1;33m\u001b[0m\u001b[0m\n\u001b[0;32m   7039\u001b[0m     \u001b[1;32mexcept\u001b[0m \u001b[0mException\u001b[0m \u001b[1;32mas\u001b[0m \u001b[0me\u001b[0m\u001b[1;33m:\u001b[0m\u001b[1;33m\u001b[0m\u001b[1;33m\u001b[0m\u001b[0m\n",
      "\u001b[1;32mC:\\Program Files\\ArcGIS\\Pro\\Resources\\ArcPy\\arcpy\\geoprocessing\\_base.py\u001b[0m in \u001b[0;36m<lambda>\u001b[1;34m(*args)\u001b[0m\n\u001b[0;32m    510\u001b[0m         \u001b[0mval\u001b[0m \u001b[1;33m=\u001b[0m \u001b[0mgetattr\u001b[0m\u001b[1;33m(\u001b[0m\u001b[0mself\u001b[0m\u001b[1;33m.\u001b[0m\u001b[0m_gp\u001b[0m\u001b[1;33m,\u001b[0m \u001b[0mattr\u001b[0m\u001b[1;33m)\u001b[0m\u001b[1;33m\u001b[0m\u001b[1;33m\u001b[0m\u001b[0m\n\u001b[0;32m    511\u001b[0m         \u001b[1;32mif\u001b[0m \u001b[0mcallable\u001b[0m\u001b[1;33m(\u001b[0m\u001b[0mval\u001b[0m\u001b[1;33m)\u001b[0m\u001b[1;33m:\u001b[0m\u001b[1;33m\u001b[0m\u001b[1;33m\u001b[0m\u001b[0m\n\u001b[1;32m--> 512\u001b[1;33m             \u001b[1;32mreturn\u001b[0m \u001b[1;32mlambda\u001b[0m \u001b[1;33m*\u001b[0m\u001b[0margs\u001b[0m\u001b[1;33m:\u001b[0m \u001b[0mval\u001b[0m\u001b[1;33m(\u001b[0m\u001b[1;33m*\u001b[0m\u001b[0mgp_fixargs\u001b[0m\u001b[1;33m(\u001b[0m\u001b[0margs\u001b[0m\u001b[1;33m,\u001b[0m \u001b[1;32mTrue\u001b[0m\u001b[1;33m)\u001b[0m\u001b[1;33m)\u001b[0m\u001b[1;33m\u001b[0m\u001b[1;33m\u001b[0m\u001b[0m\n\u001b[0m\u001b[0;32m    513\u001b[0m         \u001b[1;32melse\u001b[0m\u001b[1;33m:\u001b[0m\u001b[1;33m\u001b[0m\u001b[1;33m\u001b[0m\u001b[0m\n\u001b[0;32m    514\u001b[0m             \u001b[1;32mreturn\u001b[0m \u001b[0mconvertArcObjectToPythonObject\u001b[0m\u001b[1;33m(\u001b[0m\u001b[0mval\u001b[0m\u001b[1;33m)\u001b[0m\u001b[1;33m\u001b[0m\u001b[1;33m\u001b[0m\u001b[0m\n",
      "\u001b[1;31mExecuteError\u001b[0m: Failed to execute. Parameters are not valid.\nERROR 000732: Input Table: Dataset C:\\Users\\bryantch\\Documents\\ArcGIS\\Projects\\hexbin_parcel_analysis\\hexbin_parcel_analysis.gdb\\attribute_FCs\\resunits_hexbins does not exist or is not supported\nERROR 000725: Output Table: Dataset C:\\Users\\bryantch\\Documents\\ArcGIS\\Projects\\hexbin_parcel_analysis\\hexbin_parcel_analysis.gdb\\resunits_transp already exists.\nFailed to execute (TransposeFields).\n"
     ]
    }
   ],
   "source": [
    "# For each variable of interest, transpose the table to pull out one row for each year for each hexagram. This will produce a separate table for each variable.\n",
    "\n",
    "for name in attribute_names:\n",
    "    in_table_transp = fr'C:\\Users\\bryantch\\Documents\\ArcGIS\\Projects\\hexbin_parcel_analysis\\hexbin_parcel_analysis.gdb\\attribute_FCs\\{name}_hexbins'\n",
    "    in_field_transp = f'{name}_2009_n 2009; {name}_2010_n 2010; {name}_2011_n 2011; {name}_2012_n 2012; {name}_2013_n 2013; {name}_2014_n 2014; \\\n",
    "        {name}_2015_n 2015; {name}_2016_n 2016; {name}_2017_n 2017; {name}_2018_n 2018; {name}_2019_n 2019; {name}_2020_n 2020; {name}_2021_n 2021; \\\n",
    "        {name}_2022_n 2022'\n",
    "    out_table_transp = f'{name}_transp' \n",
    "    in_transposed_field_name = 'year' \n",
    "    in_value_field_name = f'{name}'\n",
    "    attribute_fields = ['SHAPE', 'OBJECTID']\n",
    "    \n",
    "    # delete out_table if it already exists\n",
    "    if arcpy.Exists(out_table_transp):\n",
    "        arcpy.Delete_management(in_table_transp)\n",
    "\n",
    "\n",
    "    arcpy.management.TransposeFields(in_table_transp, in_field_transp, out_table_transp, in_transposed_field_name, in_value_field_name, attribute_fields)"
   ]
  },
  {
   "cell_type": "code",
   "execution_count": null,
   "metadata": {},
   "outputs": [],
   "source": [
    "# For each new table, calculate a new field by copying 'year' into a new date type field. \n",
    "\n",
    "for name in attribute_names:\n",
    "    in_table_date = f'{name}_transp'\n",
    "    input_time_field = 'year'\n",
    "    input_time_format = 'yyyy'\n",
    "    output_time_field = 'yearDate'\n",
    "    output_time_type = 'DATE'\n",
    "\n",
    "    arcpy.management.ConvertTimeField(in_table_date, input_time_field, input_time_format, output_time_field, output_time_type)"
   ]
  },
  {
   "cell_type": "code",
   "execution_count": null,
   "metadata": {},
   "outputs": [],
   "source": [
    "# Space Time Cube requires an integer field for location\n",
    "\n",
    "for name in attribute_names:\n",
    "    inFeatures_oid = f'{name}_transp'\n",
    "    new_field_name_oid = 'OBJECTID_int'\n",
    "    expression_oid = '!OBJECTID!'\n",
    "\n",
    "    arcpy.management.CalculateField(inFeatures_oid, new_field_name_oid, expression_oid, \"PYTHON3\", field_type='LONG')"
   ]
  },
  {
   "cell_type": "code",
   "execution_count": null,
   "metadata": {},
   "outputs": [],
   "source": [
    "# Space Time Cube requires a number variable to go into each bin, so we need to convert the attribute field into a number type\n",
    "\n",
    "for name in attribute_names:\n",
    "    inFeatures_num = f'{name}_transp'\n",
    "    new_field_name_num = f'{name}_FLT'\n",
    "    expression_num = f'!{name}!'\n",
    "\n",
    "    arcpy.management.CalculateField(inFeatures_num, new_field_name_num, expression_num, \"PYTHON3\", field_type='FLOAT')"
   ]
  },
  {
   "cell_type": "code",
   "execution_count": 30,
   "metadata": {},
   "outputs": [
    {
     "name": "stdout",
     "output_type": "stream",
     "text": [
      "Start Time: Monday, October 9, 2023 3:04:38 PM\n",
      "Failed to execute. Parameters are not valid.\n",
      "ERROR 000308: Invalid field type\n",
      "Failed to execute (CreateSpaceTimeCubeDefinedLocations).\n",
      "Failed at Monday, October 9, 2023 3:04:38 PM (Elapsed Time: 0.01 seconds)\n"
     ]
    }
   ],
   "source": [
    "try:\n",
    "\n",
    "    # create space time cube for each attribute\n",
    "    for name in attribute_names:\n",
    "\n",
    "        in_features_cube = f'{name}_transp'\n",
    "        output_cube = rf'C:\\Users\\bryantch\\Documents\\ArcGIS\\Projects\\hexbin_parcel_analysis\\{name}_STCube.nc'\n",
    "        location_id = 'OBJECTID_int'\n",
    "        temporal_aggregation = 'NO_TEMPORAL_AGGREGATION'\n",
    "        time_field = 'yearDate'\n",
    "        variable_name = f'{name}_FLT ZEROS'  \n",
    "\n",
    "        arcpy.stpm.CreateSpaceTimeCubeDefinedLocations(in_features_cube, output_cube, location_id, temporal_aggregation, time_field, time_step_interval= '1 Years', \\\n",
    "                                                    time_step_alignment='END_TIME', variables=variable_name)\n",
    "except arcpy.ExecuteError:\n",
    "    print(arcpy.GetMessages())"
   ]
  },
  {
   "cell_type": "code",
   "execution_count": null,
   "metadata": {},
   "outputs": [],
   "source": [
    "# for each Space Time Cube, do an emerging hotspot/coldspot analysis\n",
    "\n",
    "for name in attribute_names:\n",
    "\n",
    "    in_cube = fr'C:\\Users\\bryantch\\Documents\\ArcGIS\\Projects\\hexbin_parcel_analysis\\hexbin_parcel_analysis.gdb\\{name}_STCube.nc'\n",
    "    name = name.upper # 'create spacetime cube' tool appears to force variable name into all caps, so need to adjust to avoid error\n",
    "    analysis_variable = f'{name}_FLT_NONE_SPACE_TIME_NEIGHBORS' #getting error on this because it needs to be all caps. Ran all manually but needs to be fixed.\n",
    "    output_features = f'{name}_STCube_EmergingHotSpotAnalysis'\n",
    "\n",
    "    arcpy.stpm.EmergingHotSpotAnalysis(in_cube, analysis_variable, output_features, conceptualization_of_spatial_relationships='FIXED_DISTANCE', define_global_window='ENTIRE_CUBE')"
   ]
  }
 ],
 "metadata": {
  "kernelspec": {
   "display_name": "Python 3",
   "language": "python",
   "name": "python3"
  },
  "language_info": {
   "codemirror_mode": {
    "name": "ipython",
    "version": 3
   },
   "file_extension": ".py",
   "mimetype": "text/x-python",
   "name": "python",
   "nbconvert_exporter": "python",
   "pygments_lexer": "ipython3",
   "version": "3.9.16"
  }
 },
 "nbformat": 4,
 "nbformat_minor": 2
}
