{
 "cells": [
  {
   "attachments": {},
   "cell_type": "markdown",
   "metadata": {},
   "source": [
    "This script takes exlu feature classes (derived from the Leon County Property Appraiser annual parcel database update) from 2009 onward & converts them into hexagram bins. Separate feature classes are created for the following attributes derived from parcel attributes: residential units, homesteads, non-residential square feet, prior year market value, and prior year property taxes.\n",
    "\n",
    "To update with new year's data:\n",
    "- copy the new year's exlu feature class into the '/original_exlu_FCs' project dataset named as 'exlu_{YYYY}'\n",
    "- if neither City nor USA boundary changed, can just run this script for the one new year; if they did change, then will need to rerun for all years\n",
    "- update 'cpi_yr' and add the new year's CPI to 'cpi_dict'\n",
    "- if City and/or USA boundaries did change, project new ones into the same State Plane projection as the exlu; keep same names (TallahasseeLimits_StatePlane' & 'USABound_StatePlane')"
   ]
  },
  {
   "attachments": {},
   "cell_type": "markdown",
   "metadata": {},
   "source": [
    "IMPORTS, WORKSPACE & DATA"
   ]
  },
  {
   "cell_type": "code",
   "execution_count": 1,
   "metadata": {},
   "outputs": [],
   "source": [
    "import arcpy\n",
    "import pandas as pd\n",
    "from arcgis.features import GeoAccessor, GeoSeriesAccessor\n",
    "\n",
    "# set initial workspace\n",
    "arcpy.env.workspace = r\"C:\\Users\\bryantch\\Documents\\ArcGIS\\Projects\\hexbin_parcel_analysis\\hexbin_parcel_analysis.gdb\"\n",
    "\n",
    "# OK to overwrite previous versions of layers & feature classes\n",
    "arcpy.env.overwriteOutput = True\n",
    "\n",
    "### ADD NEW YEAR EACH NOVEMBER\n",
    "years = ['2009', '2010', '2011', '2012', '2013', '2014', '2015', '2016', '2017', '2018', '2019', '2020', '2021', '2022']\n",
    "\n",
    "### ADD NEW YEAR & INDEX EACH NOVEMBER\n",
    "# Consumer Price Index history to convert all dollars to current year \n",
    "# (https://www.minneapolisfed.org/about-us/monetary-policy/inflation-calculator/consumer-price-index-1913-)\n",
    "cpi_dict = {'2009':214.5, '2010':218.1, '2011':224.9, '2012':229.6, '2013':233.0, \\\n",
    "            '2014':236.7, '2015':237.0, '2016':240.0, '2017':245.1, '2018':251.1, \\\n",
    "            '2019':255.7, '2020':258.8, '2021':271.0, '2022':292.7}\n",
    "\n",
    "base_yr = years[0]\n",
    "final_yr = years[-1] # for calculating current value for market & tax fields"
   ]
  },
  {
   "attachments": {},
   "cell_type": "markdown",
   "metadata": {},
   "source": [
    "PRE-PROCESS EXLU"
   ]
  },
  {
   "cell_type": "code",
   "execution_count": null,
   "metadata": {},
   "outputs": [],
   "source": [
    "# CLIP BY THE URBAN SERVICE AREA BOUNDARY & SAVE TO A NEW FEATURE CLASS\n",
    "# all layers in NAD_1983_HARN_StatePlane_Florida_North_FIPS_0903_Feet\n",
    "\n",
    "for yr in years:\n",
    "\n",
    "    in_features = f'/original_exlu_FCs/exlu_{yr}'\n",
    "    clip_features = 'USABound_StatePlane'\n",
    "    # clip_features = 'TallahasseeLimits__StatePlane' # may alternate USA versus City depending on the application\n",
    "    out_feature_class = f'/intermediate_parcel_FCs/parcels_{yr}'  \n",
    "\n",
    "    arcpy.analysis.Clip(in_features, clip_features, out_feature_class)\n",
    "\n",
    "    print(yr + \" complete\")"
   ]
  },
  {
   "cell_type": "code",
   "execution_count": null,
   "metadata": {},
   "outputs": [],
   "source": [
    "# ENSURE THE HOMESTEAD FIELD HAS THE SAME NAME FORMAT FOR ALL YEARS\n",
    "# 2009 uses 'HX{yr}' format, stops in 2010, then starts again 2018-2019; changes to 'HZ' in 2020\n",
    "\n",
    "for yr in years:\n",
    "\n",
    "    parcels_FC = f'/intermediate_parcel_FCs/parcels_{yr}'\n",
    "\n",
    "    new_field_name = 'HX'\n",
    "    new_field_alias = 'HX'\n",
    "\n",
    "    # get a list of the fields\n",
    "    fieldList = arcpy.ListFields(parcels_FC)\n",
    "\n",
    "    for field in fieldList:\n",
    "        if field.name.startswith('HX') or field.name.startswith('HZ'):\n",
    "            arcpy.management.AlterField(parcels_FC, field.name, new_field_name, new_field_alias)\n",
    "\n",
    "    print(yr + ' complete')"
   ]
  },
  {
   "cell_type": "code",
   "execution_count": null,
   "metadata": {},
   "outputs": [],
   "source": [
    "# CORRECT RESIDENTIAL UNITS FOR NURSING HOMES AS THEY ARE CONSIDERED GROUP QUARTERS IN LATER YEARS & CORRECT \n",
    "# OTHER MISTAKES NOTED BY ED YOUNG\n",
    "# TODO - make sure the parcel number/unit changes are appropriate for all years, not just 2009\n",
    "\n",
    "for yr in years:\n",
    "\n",
    "    inTable_corrections = f'/intermediate_parcel_FCs/parcels_{yr}'\n",
    "    fieldName_corrections = 'resunits'\n",
    "    expression_corrections = 'calc_corrections(!pattern!, !resunits!, !TAXID!)'\n",
    "    codeblock_corrections = '''\n",
    "def calc_corrections(pattern, residentialUnits, taxID):\n",
    "    if pattern == 'nursing home':\n",
    "        residentialUnits = 0\n",
    "    elif pattern == 'nursing facility':\n",
    "        residentialUnits = 0\n",
    "    elif pattern == 'clinic':\n",
    "        residentialUnits = 0\n",
    "    elif taxID == '2119350000070':\n",
    "        residentialUnits = 0\n",
    "    elif taxID == '2136800477790':\n",
    "        residentialUnits = 0\n",
    "    elif taxID == '2134206440000':\n",
    "        residentialUnits = 26\n",
    "    elif taxID == '2135202110000':\n",
    "        residentialUnits = 39\n",
    "    else: \n",
    "        residentialUnits = residentialUnits\n",
    "    return residentialUnits'''\n",
    "\n",
    "    # calculate the new field\n",
    "    arcpy.management.CalculateField(inTable_corrections, fieldName_corrections, expression_corrections, \"PYTHON3\", codeblock_corrections, field_type=\"DOUBLE\")\n",
    "\n",
    "    print(yr + \" complete\")"
   ]
  },
  {
   "cell_type": "markdown",
   "metadata": {},
   "source": [
    "ACCOUNT FOR PARCELS THAT CONVERTED FROM CONDO/TOWNHOUSE WITH COMMON AREAS INTO A SINGLE MULTIFAMILY PARCEL AS THIS CAUSES FALSE GAINS/LOSSES IN THE AFFECTED HEXAGRAM BINS\n",
    "\n",
    "*switching from arcpy to spacially enabled dataframes as it reduces run time by 5+ minutes per year (1+ hour total)*"
   ]
  },
  {
   "cell_type": "code",
   "execution_count": null,
   "metadata": {},
   "outputs": [],
   "source": [
    "for yr in years:\n",
    "\n",
    "    # import parcels as dataframe\n",
    "    path_parcels = fr\"C:\\Users\\bryantch\\Documents\\ArcGIS\\Projects\\hexbin_parcel_analysis\\hexbin_parcel_analysis.gdb\\intermediate_parcel_FCs\\parcels_{yr}\"\n",
    "    parcels_df = pd.DataFrame.spatial.from_featureclass(path_parcels)\n",
    "    print(f'start - {yr}:{parcels_df.shape}')\n",
    "\n",
    "    # feature classes were previously created for each year affected by apartment conversions; it summarizes attribute data as one feature per apartment complex\n",
    "    path_mf_corrections = fr'C:\\Users\\bryantch\\Documents\\ArcGIS\\Projects\\hexbin_parcel_analysis\\hexbin_parcel_analysis.gdb\\multifamily_conversion_FCs\\multifam_conversions_{yr}'\n",
    "    \n",
    "    if arcpy.Exists(path_mf_corrections):\n",
    "\n",
    "        # import the summarized apartment feature class as a dataframe\n",
    "        mf_corrections_df = pd.DataFrame.spatial.from_featureclass(path_mf_corrections)\n",
    "\n",
    "        # for each converted condo & townhouse development, delete the multiple parcels\n",
    "        unique_legals = mf_corrections_df.LEGAL1.unique().tolist()\n",
    "        for legal in unique_legals:\n",
    "            parcels_to_remove = parcels_df[(parcels_df.LEGAL1 == legal)].index\n",
    "            parcels_df.drop(parcels_to_remove, inplace=True)\n",
    "\n",
    "        # add the corrected parcel feature class (previously created in Pro) back into the original parcel layer\n",
    "        frames = [parcels_df, mf_corrections_df]\n",
    "        parcels_df = pd.concat(frames)\n",
    "\n",
    "        # keep only the necessary fields\n",
    "        fields = ['OBJECTID', 'resunits', 'PYR_MARKET', 'PYR_TAXES', 'HX', 'BASE_SQ_FT', 'AUX_SQ_FT', 'exlanduse', 'homestead', 'SHAPE']\n",
    "        parcels_df = parcels_df[fields]\n",
    "\n",
    "        # TODO - TEST THIS WORKS\n",
    "        # convert all NaN to zeros (this should prevent comparison ('>') errors in the CPI calculations below)\n",
    "        parcels_df[['PYR_MARKET', 'PYR_TAXES']] = parcels_df[['PYR_MARKET', 'PYR_TAXES']].fillna(0)\n",
    "\n",
    "        # verify number of rows, columns changed    \n",
    "        print(f'corrected - {yr}:{parcels_df.shape}')\n",
    "        \n",
    "        # write the dataframe back to the gdb\n",
    "        parcels_df.spatial.to_featureclass( location=path_parcels, \n",
    "                                            sanitize_columns=False,\n",
    "                                            overwrite=True)\n",
    "    \n",
    "    else: # for the years that didn't have any conversions\n",
    "\n",
    "        # keep only the necessary fields\n",
    "        fields = ['OBJECTID', 'resunits', 'PYR_MARKET', 'PYR_TAXES', 'HX', 'BASE_SQ_FT', 'AUX_SQ_FT', 'exlanduse', 'SHAPE']\n",
    "        parcels_df = parcels_df[fields]\n",
    "\n",
    "        # TODO - TEST THIS WORKS\n",
    "        # convert all NaN to zeros (this should prevent comparison ('>') errors in the field calculations below)\n",
    "        parcels_df[['PYR_MARKET', 'PYR_TAXES']] = parcels_df[['PYR_MARKET', 'PYR_TAXES']].fillna(0)\n",
    "\n",
    "        # write the dataframe back to the gdb\n",
    "        parcels_df.spatial.to_featureclass( location=path_parcels, \n",
    "                                            sanitize_columns=False,\n",
    "                                            overwrite=True)\n",
    "        \n",
    "        # verify year was processed\n",
    "        print(f'no correction - {yr}:{parcels_df.shape}')"
   ]
  },
  {
   "attachments": {},
   "cell_type": "markdown",
   "metadata": {},
   "source": [
    "CALCULATE NEEDED FIELDS"
   ]
  },
  {
   "cell_type": "code",
   "execution_count": null,
   "metadata": {},
   "outputs": [],
   "source": [
    "# UPDATE MARKET & TAXES FIELDS TO ACCOUNT FOR INFLATION USING MOST CURRENT YEAR DOLLARS\n",
    "# Past dollars in terms of recent dollars = Dollar amount × Ending-period CPI ÷ Beginning-period CPI\n",
    "# (https://www.fool.com/investing/general/how-to-calculate-the-real-value-of-money-using-the.aspx)\n",
    "\n",
    "for yr in years:\n",
    "\n",
    "    currVal_list = ['PYR_MARKET', 'PYR_TAXES']\n",
    "\n",
    "    for field in currVal_list:\n",
    "\n",
    "        inTable_currVal = f'/intermediate_parcel_FCs/parcels_{yr}'\n",
    "        fieldName_currVal = field\n",
    "        expression_currVal = f\"calc_currVal(!{field}!)\"\n",
    "\n",
    "        codeblock_currVal = f\"\"\" \n",
    "def calc_currVal({field}):\n",
    "    for year in cpi_dict:\n",
    "        if yr == year:\n",
    "            if {field} > 0: \n",
    "                return {field} * cpi_dict['{final_yr}'] / cpi_dict[year]\"\"\"\n",
    "\n",
    "        arcpy.management.CalculateField(inTable_currVal, fieldName_currVal, expression_currVal, \"PYTHON3\", codeblock_currVal, field_type=\"DOUBLE\")\n",
    "\n",
    "    print (yr + \" complete\")"
   ]
  },
  {
   "cell_type": "code",
   "execution_count": null,
   "metadata": {},
   "outputs": [],
   "source": [
    "# CALCULATE NEW FIELD 'homestead'\n",
    "# with value of \"1\" if HX is \"X\" and \"0\" if else\n",
    "\n",
    "for yr in years:\n",
    "\n",
    "    inTable_hmstead = f'/intermediate_parcel_FCs/parcels_{yr}'\n",
    "    fieldName_hmstead = 'homestead'\n",
    "    expression_hmstead = 'calc_hmstead_integer(!HX!, !homestead!)'\n",
    "    codeblock_hmstead = '''\n",
    "def calc_hmstead_integer(HX, homestead):\n",
    "    if HX == \"X\":\n",
    "        homestead = 1\n",
    "    else:\n",
    "        homestead = homestead\n",
    "    return homestead'''\n",
    "\n",
    "    # calculate the new field\n",
    "    arcpy.management.CalculateField(inTable_hmstead, fieldName_hmstead, expression_hmstead, \"PYTHON3\", codeblock_hmstead, field_type=\"DOUBLE\")\n",
    "\n",
    "    print(yr + \" complete\")"
   ]
  },
  {
   "cell_type": "code",
   "execution_count": null,
   "metadata": {},
   "outputs": [],
   "source": [
    "# CALCULATE 'nonResSF' \n",
    "# using exlanduse and BASE_SQ_FT+AUX_SQ_FT\n",
    "\n",
    "for yr in years:\n",
    "\n",
    "    inTable_nonResSF = f'/intermediate_parcel_FCs/parcels_{yr}'\n",
    "    fieldName_nonResSF = 'nonResSF'\n",
    "    expression_nonResSF = 'calc_nonResSF(!exlanduse!, !BASE_SQ_FT!, !AUX_SQ_FT!)'\n",
    "    codeblock_nonResSF = '''\n",
    "def calc_nonResSF(exlanduse, baseSF, auxSF):\n",
    "    nonResSF = 0\n",
    "    if baseSF == None:\n",
    "        baseSF = 0\n",
    "    if auxSF == None:\n",
    "        auxSF = 0\n",
    "    if exlanduse in ['Retail', 'Office', 'Warehouse', 'Religious/Non-profit', 'School', 'Motel/Hospital/Clinic', 'Government']:\n",
    "        nonResSF = baseSF + auxSF\n",
    "    return nonResSF'''\n",
    "\n",
    "    # calculate the new field\n",
    "    arcpy.management.CalculateField(inTable_nonResSF, fieldName_nonResSF, expression_nonResSF, \"PYTHON3\", codeblock_nonResSF, field_type=\"DOUBLE\")\n",
    "\n",
    "    print(yr + \" complete\")"
   ]
  },
  {
   "cell_type": "code",
   "execution_count": null,
   "metadata": {},
   "outputs": [],
   "source": [
    "# DELETE FIELDS USED IN CALCULATIONS BUT NO LONGER NEEDED\n",
    "for yr in years:\n",
    "\n",
    "    inTable_delete = f'/intermediate_parcel_FCs/parcels_{yr}'\n",
    "    fields = ['HX', 'BASE_SQ_FT', 'AUX_SQ_FT', 'exlanduse']\n",
    "\n",
    "    arcpy.management.DeleteField(inTable_delete, fields, method='DELETE_FIELDS')\n",
    "\n",
    "    print(yr + \" complete\")"
   ]
  },
  {
   "attachments": {},
   "cell_type": "markdown",
   "metadata": {},
   "source": [
    "PLACE THE PARCEL DATA INTO 1-ACRE HEXAGRAM BINS & UPDATE THE FIELDS AS NECESSARY"
   ]
  },
  {
   "cell_type": "code",
   "execution_count": null,
   "metadata": {},
   "outputs": [],
   "source": [
    "for yr in years:\n",
    "\n",
    "    prior_yr = str(int(yr) - 1)\n",
    "\n",
    "    # run summarize within tool\n",
    "    summarized_layer = f'/intermediate_parcel_FCs/parcels_{yr}'\n",
    "    output_fc = f'/hexBin_FCs/hexBin_{yr}'\n",
    "    sum_polygons = f'/hexBin_FCs/hexBin_{prior_yr}' # need to use prior year after the initial run b/c SummarizeWithin joins all previous fields not just bin geometry\n",
    "    sum_fields = [  ['resunits', 'SUM', 'Count'], ['PYR_MARKET', 'SUM', 'Count'], ['PYR_TAXES', 'SUM', 'Count'], \\\n",
    "                    ['homestead', 'SUM', 'Count'], ['nonResSF', 'SUM', 'Count']]\n",
    "    if yr == base_yr: # this version used only for the first year to create the initial bins\n",
    "        arcpy.gapro.SummarizeWithin(summarized_layer, output_fc, polygon_or_bin='BIN', bin_type='HEXAGON', \\\n",
    "                                    bin_size='224.27 Feet', sum_shape='ADD_SUMMARY', shape_units='ACRES_US', standard_summary_fields=sum_fields)\n",
    "    else:\n",
    "        arcpy.gapro.SummarizeWithin(summarized_layer, output_fc, polygon_or_bin='POLYGON', bin_type='HEXAGON', \\\n",
    "                                    summary_polygons=sum_polygons, sum_shape='ADD_SUMMARY', shape_units='ACRES_US', standard_summary_fields=sum_fields)\n",
    "        \n",
    "    # update the analysis field name to include the year\n",
    "    inTable_cleaning = f'/hexBin_FCs/hexBin_{yr}'\n",
    "    analysis_fields = ['SUM_resunits', 'SUM_PYR_MARKET', 'SUM_PYR_TAXES', 'SUM_homestead', 'SUM_nonResSF']\n",
    "    for field in analysis_fields:\n",
    "        new_field_name = f'{field}_{yr}_n'\n",
    "        new_field_alias = f'{field}_{yr}_n'\n",
    "        arcpy.management.AlterField(inTable_cleaning, field, new_field_name, new_field_alias)\n",
    "\n",
    "    # remove extraneous 'SUM_' prefix\n",
    "    fieldList_cleaning = arcpy.ListFields(inTable_cleaning)\n",
    "    for field in fieldList_cleaning:\n",
    "        if field.name.startswith('SUM_'): \n",
    "            new_field_name = field.name.strip('SUM_').lower()\n",
    "            new_field_alias = field.name.strip('SUM_').lower()\n",
    "            arcpy.management.AlterField(inTable_cleaning, field.name, new_field_name, new_field_alias)\n",
    "\n",
    "    # calculate annual change for each variable (could be done in JS/browser but this should enhance performance)\n",
    "    if yr != base_yr:\n",
    "        analysis_fields2 = ['resunits', 'pyr_market', 'pyr_taxes', 'homestead', 'nonressf']\n",
    "        inTable_annual_change = f'/hexBin_FCs/hexBin_{yr}'\n",
    "        codeblock_annual_change = '''\n",
    "def calc_annual_change (prior_yr_field, yr_field):\n",
    "    annual_change = yr_field - prior_yr_field\n",
    "    return annual_change'''\n",
    "\n",
    "        for field in analysis_fields2:\n",
    "            fieldName_annual_change = f'{field}_{yr}_A'\n",
    "            expression_annual_change = f'calc_annual_change(!{field}_{prior_yr}_n!, !{field}_{yr}_n!)'\n",
    "            arcpy.management.CalculateField(inTable_annual_change, fieldName_annual_change, expression_annual_change, 'PYTHON', codeblock_annual_change, field_type=\"DOUBLE\")\n",
    "\n",
    "    # calculate total change for each variable\n",
    "    if yr != base_yr:\n",
    "        inTable_total_change = f'/hexBin_FCs/hexBin_{yr}'\n",
    "        codeblock_total_change = '''\n",
    "def calc_total_change (base_yr_field, yr_field):\n",
    "    total_change = yr_field - base_yr_field\n",
    "    return total_change'''\n",
    "\n",
    "\n",
    "        for field in analysis_fields2:\n",
    "            fieldName_total_change = f'{field}_{yr}_T'\n",
    "            expression_total_change = f'calc_total_change(!{field}_{base_yr}_n!, !{field}_{yr}_n!)'\n",
    "            arcpy.management.CalculateField(inTable_total_change, fieldName_total_change, expression_total_change, 'PYTHON', codeblock_total_change, field_type=\"DOUBLE\")\n",
    "\n",
    "    print(yr + \" complete\")"
   ]
  },
  {
   "cell_type": "markdown",
   "metadata": {},
   "source": [
    "SPLIT INTO SEPARATE LAYERS FOR EACH VARIABLE (should result in better web application performance)"
   ]
  },
  {
   "cell_type": "code",
   "execution_count": 4,
   "metadata": {},
   "outputs": [
    {
     "name": "stdout",
     "output_type": "stream",
     "text": [
      "resunits complete\n",
      "pyr_market complete\n",
      "pyr_taxes complete\n",
      "homestead complete\n",
      "nonressf complete\n"
     ]
    }
   ],
   "source": [
    "# import the final year hexbin feature class as a spatially enabled dataframe\n",
    "final_hex_path = f'C:/Users/bryantch/Documents/ArcGIS/Projects/hexbin_parcel_analysis/hexbin_parcel_analysis.gdb/hexBin_FCs/hexBin_{final_yr}'\n",
    "final_hex_df = pd.DataFrame.spatial.from_featureclass(final_hex_path)\n",
    "\n",
    "# make dataframes for each attribute field & save new dataframes to the gdb\n",
    "\n",
    "attribute_FCs = ['resunits', 'pyr_market', 'pyr_taxes', 'homestead', 'nonressf']\n",
    "\n",
    "for attribute in attribute_FCs:\n",
    "\n",
    "    # filter to keep only needed columns (regex tests for the strings or substrings in column names)\n",
    "    attribute_df = final_hex_df.filter(regex= f'OBJECTID|SHAPE|{attribute}')\n",
    "\n",
    "    # drop the extraneous OBJECTID columns but keep the most current one\n",
    "    keep_cols = [col for col in attribute_df.columns if not 'OBJECTID' in col or col==\"OBJECTID\"]\n",
    "    attribute_df = attribute_df[keep_cols]\n",
    "\n",
    "    # round to the first decimal point\n",
    "    decimalDict = {col:1 for col in attribute_df.columns if col.startswith(f'{attribute}')}\n",
    "    attribute_df = attribute_df.round(decimalDict)\n",
    "\n",
    "    # drop any rows with all zeroes in attribute fields ('OBJECTID' is also int64 type so need to subtract it off)\n",
    "    attribute_df = attribute_df[((attribute_df.sum(axis=1, numeric_only=True) - attribute_df[\"OBJECTID\"]) != 0)]\n",
    "\n",
    "    # save to gdb\n",
    "    attribute_fc_path = f'C:/Users/bryantch/Documents/ArcGIS/Projects/hexbin_parcel_analysis/hexbin_parcel_analysis.gdb/attribute_FCs/{attribute}_hexbins'\n",
    "    attribute_df.spatial.to_featureclass(location=attribute_fc_path, \n",
    "                                         sanitize_columns=False,\n",
    "                                         overwrite=True) \n",
    "\n",
    "    print (attribute + ' complete')                "
   ]
  },
  {
   "cell_type": "markdown",
   "metadata": {},
   "source": [
    "MAKE POLYGON TO POINT LAYER FOR ALL LAYERS TO BE USED FOR CLUSTERING LABELS"
   ]
  },
  {
   "cell_type": "code",
   "execution_count": 6,
   "metadata": {},
   "outputs": [
    {
     "name": "stdout",
     "output_type": "stream",
     "text": [
      "resunits complete\n",
      "pyr_market complete\n",
      "pyr_taxes complete\n",
      "homestead complete\n",
      "nonressf complete\n"
     ]
    }
   ],
   "source": [
    "# if the feature class already exists, delete it before adding the new one\n",
    "for attribute in attribute_FCs:\n",
    "    out_feature_class = f'/attribute_FCs/{attribute}_points'\n",
    "    in_features = f'/attribute_FCs/{attribute}_hexbins'\n",
    "    if arcpy.Exists(out_feature_class):\n",
    "        arcpy.Delete_management(out_feature_class)\n",
    "        arcpy.management.FeatureToPoint(in_features, out_feature_class, point_location='CENTROID')\n",
    "\n",
    "        print (attribute + ' complete')"
   ]
  },
  {
   "cell_type": "code",
   "execution_count": null,
   "metadata": {},
   "outputs": [],
   "source": []
  }
 ],
 "metadata": {
  "kernelspec": {
   "display_name": "Python 3",
   "language": "python",
   "name": "python3"
  },
  "language_info": {
   "codemirror_mode": {
    "name": "ipython",
    "version": 3
   },
   "file_extension": ".py",
   "mimetype": "text/x-python",
   "name": "python",
   "nbconvert_exporter": "python",
   "pygments_lexer": "ipython3",
   "version": "3.9.16"
  },
  "orig_nbformat": 4,
  "vscode": {
   "interpreter": {
    "hash": "3944b91bf37e21a9df249d6dad6d8b1b906c10c69dfcaade496a1b43983fec7d"
   }
  }
 },
 "nbformat": 4,
 "nbformat_minor": 2
}
