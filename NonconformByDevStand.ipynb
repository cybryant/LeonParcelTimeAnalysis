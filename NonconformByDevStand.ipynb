{
 "cells": [
  {
   "cell_type": "markdown",
   "metadata": {},
   "source": [
    "**Calculates the residential lots too small to meet minimum standards, makes a new feature class with the results. Then creates another feature class from that for only those within the City limits.**\n",
    "\n",
    "City Limits Feature Class is current as of: 9/7/2022\n",
    "\n",
    "**Notes:**\n",
    "- did not include Rural, Lake Protection, or Urban Fringe\n",
    "- R4 merely states \"Cannot exceed the maximum density of ten units per acre\" so is not included.\n",
    "- MCN, UP-1 & UP-2 do not have minimum lot size standards\n",
    "- for lots in the MMTD, the standards provided minimum width & depth, which was used to calculate min size."
   ]
  },
  {
   "cell_type": "code",
   "execution_count": 9,
   "metadata": {},
   "outputs": [],
   "source": [
    "import arcpy\n",
    "\n",
    "# tell python it's OK to overwrite previous versions of feature classes\n",
    "arcpy.env.overwriteOutput = True"
   ]
  },
  {
   "cell_type": "code",
   "execution_count": 10,
   "metadata": {},
   "outputs": [
    {
     "data": {
      "text/html": [
       "<div class='gpresult'><h2>Messages</h2><div id='messages' data-messages='[\"Start Time: Thursday, December 15, 2022 5:38:36 PM\",\"Succeeded at Thursday, December 15, 2022 5:38:37 PM (Elapsed Time: 1.27 seconds)\"]' data-show='true'><div id = 'default' /></div></div>"
      ],
      "text/plain": [
       "<Result 'C:\\\\Users\\\\bryantch\\\\Documents\\\\ArcGIS\\\\Projects\\\\NonConformingUses\\\\NonConformingUses.gdb\\\\nonConformingResLots'>"
      ]
     },
     "execution_count": 10,
     "metadata": {},
     "output_type": "execute_result"
    }
   ],
   "source": [
    "##########################################################\n",
    "# SELECT ONLY PARCELS THAT ALLOW SINGLE-FAMILY DETACHED \n",
    "# & THAT DON'T MEET MINIMUM LOT REQUIREMENTS \n",
    "##########################################################\n",
    "\n",
    "in_features = \"exlu2022detailCopy\"\n",
    "out_feature_class = \"nonConformingResLots\"\n",
    "where_clause = '(\"mmtd\" = \\'Out\\' AND \"ZONING\" = \\'RP-1\\' AND \"CALC_ACREA\" < .138) \\\n",
    "OR (\"mmtd\" = \\'Out\\' AND \"ZONING\" = \\'RP-2\\' AND \"CALC_ACREA\" < .138) \\\n",
    "OR (\"mmtd\" = \\'Out\\' AND \"ZONING\" = \\'RP-MH\\' AND \"CALC_ACREA\" < .083) \\\n",
    "OR (\"mmtd\" = \\'Out\\' AND \"ZONING\" = \\'RA\\' AND \"CALC_ACREA\" < 1) \\\n",
    "OR (\"mmtd\" = \\'Out\\' AND \"ZONING\" = \\'R-1\\' AND \"CALC_ACREA\" < .275) \\\n",
    "OR (\"mmtd\" = \\'Out\\' AND \"ZONING\" = \\'R-2\\' AND \"CALC_ACREA\" < .207) \\\n",
    "OR (\"mmtd\" = \\'Out\\' AND \"ZONING\" = \\'R-3\\' AND \"CALC_ACREA\" < .115) \\\n",
    "OR (\"mmtd\" = \\'Out\\' AND \"ZONING\" = \\'R-5\\' AND \"CALC_ACREA\" < .115) \\\n",
    "OR (\"mmtd\" = \\'Out\\' AND \"ZONING\" = \\'MR-1\\' AND \"CALC_ACREA\" < .115) \\\n",
    "OR (\"mmtd\" = \\'Out\\' AND \"ZONING\" = \\'OR-1\\' AND \"CALC_ACREA\" < .115) \\\n",
    "OR (\"mmtd\" = \\'Out\\' AND \"ZONING\" = \\'OR-2\\' AND \"CALC_ACREA\" < .115) \\\n",
    "OR (\"mmtd\" = \\'Out\\' AND \"ZONING\" = \\'OR-3\\' AND \"CALC_ACREA\" < .115) \\\n",
    "OR (\"mmtd\" = \\'Out\\' AND \"ZONING\" = \\'NBO\\' AND \"CALC_ACREA\" < .115) \\\n",
    "OR (\"mmtd\" = \\'Out\\' AND \"ZONING\" = \\'MR\\' AND \"CALC_ACREA\" < .115) \\\n",
    "OR (\"mmtd\" = \\'Out\\' AND \"ZONING\" = \\'NB-1\\' AND \"CALC_ACREA\" < .024) \\\n",
    "OR (\"mmtd\" = \\'In\\' AND \"ZONING\" = \\'RP-1\\' AND \"CALC_ACREA\" < .024) \\\n",
    "OR (\"mmtd\" = \\'In\\' AND \"ZONING\" = \\'RP-2\\' AND \"CALC_ACREA\" < .024) \\\n",
    "OR (\"mmtd\" = \\'In\\' AND \"ZONING\" = \\'R-1\\' AND \"CALC_ACREA\" < .024) \\\n",
    "OR (\"mmtd\" = \\'In\\' AND \"ZONING\" = \\'R-2\\' AND \"CALC_ACREA\" < .024) \\\n",
    "OR (\"mmtd\" = \\'In\\' AND \"ZONING\" = \\'R-3\\' AND \"CALC_ACREA\" < .024) \\\n",
    "OR (\"mmtd\" = \\'In\\' AND \"ZONING\" = \\'R-5\\' AND \"CALC_ACREA\" < .024) \\\n",
    "OR (\"mmtd\" = \\'In\\' AND \"ZONING\" = \\'NBO\\' AND \"CALC_ACREA\" < .024) \\\n",
    "OR (\"mmtd\" = \\'In\\' AND \"ZONING\" = \\'NB-1\\' AND \"CALC_ACREA\" < .024) \\\n",
    "OR (\"mmtd\" = \\'In\\' AND \"ZONING\" = \\'OR-1\\' AND \"CALC_ACREA\" < .024) \\\n",
    "OR (\"mmtd\" = \\'In\\' AND \"ZONING\" = \\'CU-12\\' AND \"CALC_ACREA\" < .024) \\\n",
    "OR (\"mmtd\" = \\'In\\' AND \"ZONING\" = \\'R-4\\' AND \"CALC_ACREA\" < .019) \\\n",
    "OR (\"mmtd\" = \\'In\\' AND \"ZONING\" = \\'OR-2\\' AND \"CALC_ACREA\" < .019) \\\n",
    "OR (\"mmtd\" = \\'In\\' AND \"ZONING\" = \\'UP-1\\' AND \"CALC_ACREA\" < .019) \\\n",
    "OR (\"mmtd\" = \\'In\\' AND \"ZONING\" = \\'MR-1\\' AND \"CALC_ACREA\" < .019) \\\n",
    "OR (\"mmtd\" = \\'In\\' AND \"ZONING\" = \\'CU-18\\' AND \"CALC_ACREA\" < .019) \\\n",
    "OR (\"mmtd\" = \\'In\\' AND \"ZONING\" = \\'CU-26\\' AND \"CALC_ACREA\" < .019) \\\n",
    "OR (\"mmtd\" = \\'In\\' AND \"ZONING\" = \\'MR\\' AND \"CALC_ACREA\" < .019)\\\n",
    "OR (\"mmtd\" = \\'In\\' AND \"ZONING\" = \\'OR-3\\' AND \"CALC_ACREA\" < .015) \\\n",
    "OR (\"mmtd\" = \\'In\\' AND \"ZONING\" = \\'UP-2\\' AND \"CALC_ACREA\" < .015) \\\n",
    "OR (\"mmtd\" = \\'In\\' AND \"ZONING\" = \\'CU-45\\' AND \"CALC_ACREA\" < .015) \\\n",
    "OR (\"mmtd\" = \\'In\\' AND \"ZONING\" = \\'UT\\' AND \"CALC_ACREA\" < .015) \\\n",
    "OR (\"mmtd\" = \\'In\\' AND \"ZONING\" = \\'ASN-A\\' AND \"CALC_ACREA\" < .015) \\\n",
    "OR (\"mmtd\" = \\'In\\' AND \"ZONING\" = \\'ASN-B\\' AND \"CALC_ACREA\" < .015) \\\n",
    "OR (\"mmtd\" = \\'In\\' AND \"ZONING\" = \\'ASN-C\\' AND \"CALC_ACREA\" < .015) \\\n",
    "OR (\"mmtd\" = \\'In\\' AND \"ZONING\" = \\'ASN-D\\' AND \"CALC_ACREA\" < .015) \\\n",
    "OR (\"mmtd\" = \\'In\\' AND \"ZONING\" = \\'UV\\' AND \"CALC_ACREA\" < .015)'\n",
    "\n",
    "arcpy.analysis.Select(in_features, out_feature_class, where_clause)\n"
   ]
  },
  {
   "cell_type": "code",
   "execution_count": 11,
   "metadata": {},
   "outputs": [
    {
     "data": {
      "text/html": [
       "<div class='gpresult'><h2>Messages</h2><div id='messages' data-messages='[\"Start Time: Thursday, December 15, 2022 5:38:37 PM\",\"Reading Features...\",\"Cracking Features...\",\"Assembling Features...\",\"Succeeded at Thursday, December 15, 2022 5:38:39 PM (Elapsed Time: 1.83 seconds)\"]' data-show='true'><div id = 'default' /></div></div>"
      ],
      "text/plain": [
       "<Result 'C:\\\\Users\\\\bryantch\\\\Documents\\\\ArcGIS\\\\Projects\\\\NonConformingUses\\\\NonConformingUses.gdb\\\\TEMP_COTnonConformingResLots'>"
      ]
     },
     "execution_count": 11,
     "metadata": {},
     "output_type": "execute_result"
    }
   ],
   "source": [
    "##########################################################\n",
    "# CLIP THE ABOVE NEWLY CREATED FC BY CITY LIMITS & SAVE AS NEW FC\n",
    "##########################################################\n",
    "\n",
    "in_features = \"nonConformingResLots\"\n",
    "clip_features = \"Tallahassee City Limits\"\n",
    "out_feature_class = \"TEMP_COTnonConformingResLots\"\n",
    "\n",
    "arcpy.analysis.Clip(in_features, clip_features, out_feature_class)"
   ]
  },
  {
   "attachments": {},
   "cell_type": "markdown",
   "metadata": {},
   "source": [
    "**IMPORTANT: To avoid losing app connections to the layer in AGOL, delete all records in COTnonConformingResLots & cut/paste all records of TEMP_COTnonConformingResLots into it.** "
   ]
  },
  {
   "cell_type": "markdown",
   "metadata": {},
   "source": [
    "OR (\"mmtd\" = \\'In\\' AND \"ZONING\" = \\'RP-1\\' AND \"CALC_ACREA\" < .3) \\\n",
    "OR (\"mmtd\" = \\'In\\' AND \"ZONING\" = \\'RP-2\\' AND \"CALC_ACREA\" < .167) \\\n",
    "OR (\"mmtd\" = \\'In\\' AND \"ZONING\" = \\'R-1\\' AND \"CALC_ACREA\" < .275) \\\n",
    "OR (\"mmtd\" = \\'In\\' AND \"ZONING\" = \\'R-2\\' AND \"CALC_ACREA\" < .207) \\\n",
    "OR (\"mmtd\" = \\'In\\' AND \"ZONING\" = \\'R-3\\' AND \"CALC_ACREA\" < .125) \\\n",
    "OR (\"mmtd\" = \\'In\\' AND \"ZONING\" = \\'R-5\\' AND \"CALC_ACREA\" < .125) \\\n",
    "OR (\"mmtd\" = \\'In\\' AND \"ZONING\" = \\'NBO\\' AND \"CALC_ACREA\" < .125) \\\n",
    "OR (\"mmtd\" = \\'In\\' AND \"ZONING\" = \\'NB-1\\' AND \"CALC_ACREA\" < .056) \\\n",
    "OR (\"mmtd\" = \\'In\\' AND \"ZONING\" = \\'OR-1\\' AND \"CALC_ACREA\" < .125) \\\n",
    "OR (\"mmtd\" = \\'In\\' AND \"ZONING\" = \\'CU-12\\' AND \"CALC_ACREA\" < .083) \\"
   ]
  }
 ],
 "metadata": {
  "kernelspec": {
   "display_name": "Python 3",
   "language": "python",
   "name": "python3"
  },
  "language_info": {
   "file_extension": ".py",
   "name": "python",
   "version": "3.7.11 [MSC v.1927 64 bit (AMD64)]"
  },
  "vscode": {
   "interpreter": {
    "hash": "ce21b655b4d6c9e397d5ad93d5666c623f49909f6d0cc2f72076dafcf1b3ecfb"
   }
  }
 },
 "nbformat": 4,
 "nbformat_minor": 2
}
